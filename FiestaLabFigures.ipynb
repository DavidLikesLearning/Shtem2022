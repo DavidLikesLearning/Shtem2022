{
  "nbformat": 4,
  "nbformat_minor": 0,
  "metadata": {
    "colab": {
      "name": "FiestaLabFigures",
      "provenance": []
    },
    "kernelspec": {
      "name": "python3",
      "display_name": "Python 3"
    },
    "language_info": {
      "name": "python"
    }
  },
  "cells": [
    {
      "cell_type": "code",
      "execution_count": 2,
      "metadata": {
        "colab": {
          "base_uri": "https://localhost:8080/"
        },
        "id": "kn51HVXCQY1H",
        "outputId": "29f893bc-ed88-4f9a-f2c3-384466a78a3d"
      },
      "outputs": [
        {
          "output_type": "stream",
          "name": "stdout",
          "text": [
            "Drive already mounted at /content/drive; to attempt to forcibly remount, call drive.mount(\"/content/drive\", force_remount=True).\n"
          ]
        }
      ],
      "source": [
        "import numpy as np\n",
        "import pandas as pd\n",
        "import matplotlib.pyplot as plt\n",
        "import tensorflow as tf\n",
        "from tensorflow import keras\n",
        "from tensorflow.keras import layers\n",
        "import time\n",
        "import os\n",
        "from google.colab import drive\n",
        "drive.mount('/content/drive')"
      ]
    },
    {
      "cell_type": "code",
      "source": [
        "records  = os.listdir('/content/drive/MyDrive/Students/records/mother/')"
      ],
      "metadata": {
        "id": "JFHG65EvQfT1"
      },
      "execution_count": 5,
      "outputs": []
    },
    {
      "cell_type": "code",
      "source": [
        "histories = [i for i in os.listdir('/content/drive/MyDrive/Students/models/mother/') if '.csv' in i]"
      ],
      "metadata": {
        "id": "FinsS9SOQ3Wn"
      },
      "execution_count": 8,
      "outputs": []
    },
    {
      "cell_type": "code",
      "source": [
        "histories"
      ],
      "metadata": {
        "colab": {
          "base_uri": "https://localhost:8080/"
        },
        "id": "25eT1onDRG6p",
        "outputId": "8c920f67-0914-4f0d-c175-6616c19e05fb"
      },
      "execution_count": 9,
      "outputs": [
        {
          "output_type": "execute_result",
          "data": {
            "text/plain": [
              "['Aug__3_00_37[100,100,100]_LR0.0003_REG0.03_EPOCH50.csv',\n",
              " 'Aug__3_00_37[100,100,100]_LR0.0003_REG0.1_EPOCH50.csv',\n",
              " 'Aug__3_00_38[60,50,40,30,20]_LR0.003_REG0.01_EPOCH50.csv',\n",
              " 'Aug__3_00_38[60,50,40,30,20]_LR0.001_REG0.03_EPOCH50.csv',\n",
              " 'Aug__3_00_38[60,50,40,30,20]_LR0.003_REG0.03_EPOCH50.csv',\n",
              " 'Aug__3_00_40[200,200]_LR0.001_REG0.01_EPOCH50.csv',\n",
              " 'Aug__3_00_40[200,200]_LR0.003_REG0.01_EPOCH50.csv',\n",
              " 'Aug__3_00_40[200,200]_LR0.0003_REG0.03_EPOCH50.csv',\n",
              " 'Aug__3_00_41[50,100,50,20]_LR0.0003_REG0.01_EPOCH50.csv',\n",
              " 'Aug__3_00_41[50,100,50,20]_LR0.003_REG0.01_EPOCH50.csv',\n",
              " 'Aug__3_00_41[50,100,50,20]_LR0.0003_REG0.1_EPOCH50.csv',\n",
              " 'Aug__3_00_41[55,65,75,85]_LR0.0003_REG0.01_EPOCH50.csv',\n",
              " 'Aug__3_00_42[55,65,75,85]_LR0.001_REG0.01_EPOCH50.csv',\n",
              " 'Aug__3_00_42[55,65,75,85]_LR0.0003_REG0.1_EPOCH50.csv',\n",
              " 'Aug__3_00_43[40,40]_LR0.0003_REG0.01_EPOCH50.csv',\n",
              " 'Aug__3_00_44[40,40]_LR0.003_REG0.1_EPOCH50.csv']"
            ]
          },
          "metadata": {},
          "execution_count": 9
        }
      ]
    },
    {
      "cell_type": "code",
      "source": [
        "records"
      ],
      "metadata": {
        "colab": {
          "base_uri": "https://localhost:8080/"
        },
        "id": "2VXxZhgQRH0Q",
        "outputId": "f0056109-a44b-446d-cf54-87170c960521"
      },
      "execution_count": 10,
      "outputs": [
        {
          "output_type": "execute_result",
          "data": {
            "text/plain": [
              "['Aug__3_00_38.csv',\n",
              " 'Aug__3_00_39.csv',\n",
              " 'Aug__3_00_40.csv',\n",
              " 'Aug__3_00_41.csv',\n",
              " 'Aug__3_00_42.csv',\n",
              " 'Aug__3_00_43.csv',\n",
              " 'Aug__3_00_44.csv']"
            ]
          },
          "metadata": {},
          "execution_count": 10
        }
      ]
    },
    {
      "cell_type": "code",
      "source": [
        "rec2 = pd.read_csv('/content/drive/MyDrive/Students/records/mother/'+records[2])"
      ],
      "metadata": {
        "id": "YAzFtlznTJkO"
      },
      "execution_count": 26,
      "outputs": []
    },
    {
      "cell_type": "code",
      "source": [
        "rec2"
      ],
      "metadata": {
        "colab": {
          "base_uri": "https://localhost:8080/",
          "height": 287
        },
        "id": "g5IvmhWQTRgH",
        "outputId": "690ce488-5de2-4443-f0db-5b3a5a3a5dba"
      },
      "execution_count": 27,
      "outputs": [
        {
          "output_type": "execute_result",
          "data": {
            "text/plain": [
              "  Unnamed: 0  [200,200]_LR0.0003_REG0.01_EPOCH50  \\\n",
              "0       rmse                            1.519199   \n",
              "1        acc                            0.446154   \n",
              "2    val_acc                            0.379310   \n",
              "3       loss                           35.030113   \n",
              "4   val_loss                           50.644844   \n",
              "\n",
              "   [200,200]_LR0.001_REG0.01_EPOCH50  [200,200]_LR0.003_REG0.01_EPOCH50  \\\n",
              "0                           0.983399                           1.297820   \n",
              "1                           0.486154                           0.498462   \n",
              "2                           0.379310                           0.218391   \n",
              "3                          31.697050                          11.387124   \n",
              "4                          37.213284                          33.445221   \n",
              "\n",
              "   [200,200]_LR0.0003_REG0.03_EPOCH50  [200,200]_LR0.001_REG0.03_EPOCH50  \\\n",
              "0                            1.292650                           1.310806   \n",
              "1                            0.461538                           0.409231   \n",
              "2                            0.367816                           0.379310   \n",
              "3                           22.882046                          39.014977   \n",
              "4                           26.157923                          77.158340   \n",
              "\n",
              "   [200,200]_LR0.003_REG0.03_EPOCH50  [200,200]_LR0.0003_REG0.1_EPOCH50  \\\n",
              "0                           1.331024                           1.422125   \n",
              "1                           0.443077                           0.390769   \n",
              "2                           0.218391                           0.367816   \n",
              "3                          18.109549                          49.514915   \n",
              "4                          40.257935                          55.299911   \n",
              "\n",
              "   [200,200]_LR0.001_REG0.1_EPOCH50  [200,200]_LR0.003_REG0.1_EPOCH50  \n",
              "0                          0.888256                          1.304230  \n",
              "1                          0.393846                          0.390769  \n",
              "2                          0.379310                          0.402299  \n",
              "3                         65.886703                         20.659424  \n",
              "4                        131.523636                         23.827463  "
            ],
            "text/html": [
              "\n",
              "  <div id=\"df-4309b69d-ad91-4c09-9d9b-06e13358357d\">\n",
              "    <div class=\"colab-df-container\">\n",
              "      <div>\n",
              "<style scoped>\n",
              "    .dataframe tbody tr th:only-of-type {\n",
              "        vertical-align: middle;\n",
              "    }\n",
              "\n",
              "    .dataframe tbody tr th {\n",
              "        vertical-align: top;\n",
              "    }\n",
              "\n",
              "    .dataframe thead th {\n",
              "        text-align: right;\n",
              "    }\n",
              "</style>\n",
              "<table border=\"1\" class=\"dataframe\">\n",
              "  <thead>\n",
              "    <tr style=\"text-align: right;\">\n",
              "      <th></th>\n",
              "      <th>Unnamed: 0</th>\n",
              "      <th>[200,200]_LR0.0003_REG0.01_EPOCH50</th>\n",
              "      <th>[200,200]_LR0.001_REG0.01_EPOCH50</th>\n",
              "      <th>[200,200]_LR0.003_REG0.01_EPOCH50</th>\n",
              "      <th>[200,200]_LR0.0003_REG0.03_EPOCH50</th>\n",
              "      <th>[200,200]_LR0.001_REG0.03_EPOCH50</th>\n",
              "      <th>[200,200]_LR0.003_REG0.03_EPOCH50</th>\n",
              "      <th>[200,200]_LR0.0003_REG0.1_EPOCH50</th>\n",
              "      <th>[200,200]_LR0.001_REG0.1_EPOCH50</th>\n",
              "      <th>[200,200]_LR0.003_REG0.1_EPOCH50</th>\n",
              "    </tr>\n",
              "  </thead>\n",
              "  <tbody>\n",
              "    <tr>\n",
              "      <th>0</th>\n",
              "      <td>rmse</td>\n",
              "      <td>1.519199</td>\n",
              "      <td>0.983399</td>\n",
              "      <td>1.297820</td>\n",
              "      <td>1.292650</td>\n",
              "      <td>1.310806</td>\n",
              "      <td>1.331024</td>\n",
              "      <td>1.422125</td>\n",
              "      <td>0.888256</td>\n",
              "      <td>1.304230</td>\n",
              "    </tr>\n",
              "    <tr>\n",
              "      <th>1</th>\n",
              "      <td>acc</td>\n",
              "      <td>0.446154</td>\n",
              "      <td>0.486154</td>\n",
              "      <td>0.498462</td>\n",
              "      <td>0.461538</td>\n",
              "      <td>0.409231</td>\n",
              "      <td>0.443077</td>\n",
              "      <td>0.390769</td>\n",
              "      <td>0.393846</td>\n",
              "      <td>0.390769</td>\n",
              "    </tr>\n",
              "    <tr>\n",
              "      <th>2</th>\n",
              "      <td>val_acc</td>\n",
              "      <td>0.379310</td>\n",
              "      <td>0.379310</td>\n",
              "      <td>0.218391</td>\n",
              "      <td>0.367816</td>\n",
              "      <td>0.379310</td>\n",
              "      <td>0.218391</td>\n",
              "      <td>0.367816</td>\n",
              "      <td>0.379310</td>\n",
              "      <td>0.402299</td>\n",
              "    </tr>\n",
              "    <tr>\n",
              "      <th>3</th>\n",
              "      <td>loss</td>\n",
              "      <td>35.030113</td>\n",
              "      <td>31.697050</td>\n",
              "      <td>11.387124</td>\n",
              "      <td>22.882046</td>\n",
              "      <td>39.014977</td>\n",
              "      <td>18.109549</td>\n",
              "      <td>49.514915</td>\n",
              "      <td>65.886703</td>\n",
              "      <td>20.659424</td>\n",
              "    </tr>\n",
              "    <tr>\n",
              "      <th>4</th>\n",
              "      <td>val_loss</td>\n",
              "      <td>50.644844</td>\n",
              "      <td>37.213284</td>\n",
              "      <td>33.445221</td>\n",
              "      <td>26.157923</td>\n",
              "      <td>77.158340</td>\n",
              "      <td>40.257935</td>\n",
              "      <td>55.299911</td>\n",
              "      <td>131.523636</td>\n",
              "      <td>23.827463</td>\n",
              "    </tr>\n",
              "  </tbody>\n",
              "</table>\n",
              "</div>\n",
              "      <button class=\"colab-df-convert\" onclick=\"convertToInteractive('df-4309b69d-ad91-4c09-9d9b-06e13358357d')\"\n",
              "              title=\"Convert this dataframe to an interactive table.\"\n",
              "              style=\"display:none;\">\n",
              "        \n",
              "  <svg xmlns=\"http://www.w3.org/2000/svg\" height=\"24px\"viewBox=\"0 0 24 24\"\n",
              "       width=\"24px\">\n",
              "    <path d=\"M0 0h24v24H0V0z\" fill=\"none\"/>\n",
              "    <path d=\"M18.56 5.44l.94 2.06.94-2.06 2.06-.94-2.06-.94-.94-2.06-.94 2.06-2.06.94zm-11 1L8.5 8.5l.94-2.06 2.06-.94-2.06-.94L8.5 2.5l-.94 2.06-2.06.94zm10 10l.94 2.06.94-2.06 2.06-.94-2.06-.94-.94-2.06-.94 2.06-2.06.94z\"/><path d=\"M17.41 7.96l-1.37-1.37c-.4-.4-.92-.59-1.43-.59-.52 0-1.04.2-1.43.59L10.3 9.45l-7.72 7.72c-.78.78-.78 2.05 0 2.83L4 21.41c.39.39.9.59 1.41.59.51 0 1.02-.2 1.41-.59l7.78-7.78 2.81-2.81c.8-.78.8-2.07 0-2.86zM5.41 20L4 18.59l7.72-7.72 1.47 1.35L5.41 20z\"/>\n",
              "  </svg>\n",
              "      </button>\n",
              "      \n",
              "  <style>\n",
              "    .colab-df-container {\n",
              "      display:flex;\n",
              "      flex-wrap:wrap;\n",
              "      gap: 12px;\n",
              "    }\n",
              "\n",
              "    .colab-df-convert {\n",
              "      background-color: #E8F0FE;\n",
              "      border: none;\n",
              "      border-radius: 50%;\n",
              "      cursor: pointer;\n",
              "      display: none;\n",
              "      fill: #1967D2;\n",
              "      height: 32px;\n",
              "      padding: 0 0 0 0;\n",
              "      width: 32px;\n",
              "    }\n",
              "\n",
              "    .colab-df-convert:hover {\n",
              "      background-color: #E2EBFA;\n",
              "      box-shadow: 0px 1px 2px rgba(60, 64, 67, 0.3), 0px 1px 3px 1px rgba(60, 64, 67, 0.15);\n",
              "      fill: #174EA6;\n",
              "    }\n",
              "\n",
              "    [theme=dark] .colab-df-convert {\n",
              "      background-color: #3B4455;\n",
              "      fill: #D2E3FC;\n",
              "    }\n",
              "\n",
              "    [theme=dark] .colab-df-convert:hover {\n",
              "      background-color: #434B5C;\n",
              "      box-shadow: 0px 1px 3px 1px rgba(0, 0, 0, 0.15);\n",
              "      filter: drop-shadow(0px 1px 2px rgba(0, 0, 0, 0.3));\n",
              "      fill: #FFFFFF;\n",
              "    }\n",
              "  </style>\n",
              "\n",
              "      <script>\n",
              "        const buttonEl =\n",
              "          document.querySelector('#df-4309b69d-ad91-4c09-9d9b-06e13358357d button.colab-df-convert');\n",
              "        buttonEl.style.display =\n",
              "          google.colab.kernel.accessAllowed ? 'block' : 'none';\n",
              "\n",
              "        async function convertToInteractive(key) {\n",
              "          const element = document.querySelector('#df-4309b69d-ad91-4c09-9d9b-06e13358357d');\n",
              "          const dataTable =\n",
              "            await google.colab.kernel.invokeFunction('convertToInteractive',\n",
              "                                                     [key], {});\n",
              "          if (!dataTable) return;\n",
              "\n",
              "          const docLinkHtml = 'Like what you see? Visit the ' +\n",
              "            '<a target=\"_blank\" href=https://colab.research.google.com/notebooks/data_table.ipynb>data table notebook</a>'\n",
              "            + ' to learn more about interactive tables.';\n",
              "          element.innerHTML = '';\n",
              "          dataTable['output_type'] = 'display_data';\n",
              "          await google.colab.output.renderOutput(dataTable, element);\n",
              "          const docLink = document.createElement('div');\n",
              "          docLink.innerHTML = docLinkHtml;\n",
              "          element.appendChild(docLink);\n",
              "        }\n",
              "      </script>\n",
              "    </div>\n",
              "  </div>\n",
              "  "
            ]
          },
          "metadata": {},
          "execution_count": 27
        }
      ]
    },
    {
      "cell_type": "code",
      "source": [
        "plt.bar(['arch1','arch2','arch3'],[37,45,22])"
      ],
      "metadata": {
        "colab": {
          "base_uri": "https://localhost:8080/",
          "height": 282
        },
        "id": "am7pN-RoTeI1",
        "outputId": "5253178c-d71f-4612-ea92-e286973210a9"
      },
      "execution_count": 30,
      "outputs": [
        {
          "output_type": "execute_result",
          "data": {
            "text/plain": [
              "<BarContainer object of 3 artists>"
            ]
          },
          "metadata": {},
          "execution_count": 30
        },
        {
          "output_type": "display_data",
          "data": {
            "text/plain": [
              "<Figure size 432x288 with 1 Axes>"
            ],
            "image/png": "[encoded data removed]"
          },
          "metadata": {
            "needs_background": "light"
          }
        }
      ]
    },
    {
      "cell_type": "code",
      "source": [
        "hist2 = pd.read_csv('/content/drive/MyDrive/Students/models/mother/'+histories[2])\n",
        "hist3 = pd.read_csv('/content/drive/MyDrive/Students/models/mother/'+histories[3])"
      ],
      "metadata": {
        "id": "NzUu0kwiRUlz"
      },
      "execution_count": 18,
      "outputs": []
    },
    {
      "cell_type": "code",
      "source": [
        "hist2['val_accuracy'][49:]\n",
        "histories[2]"
      ],
      "metadata": {
        "colab": {
          "base_uri": "https://localhost:8080/",
          "height": 35
        },
        "id": "HXbmkezYVG42",
        "outputId": "978a88b9-c84a-4d7b-a97f-8ca100fedf2f"
      },
      "execution_count": 35,
      "outputs": [
        {
          "output_type": "execute_result",
          "data": {
            "text/plain": [
              "'Aug__3_00_38[60,50,40,30,20]_LR0.003_REG0.01_EPOCH50.csv'"
            ],
            "application/vnd.google.colaboratory.intrinsic+json": {
              "type": "string"
            }
          },
          "metadata": {},
          "execution_count": 35
        }
      ]
    },
    {
      "cell_type": "code",
      "source": [
        "plt.plot(hist2['accuracy'])\n",
        "plt.plot(hist3['accuracy'])\n",
        "plt.legend(['2','3'])\n",
        "plt.title('importnat stuff')\n",
        "plt.xlabel('Woo')\n",
        "plt.savefig('/content/drive/MyDrive/Students/images/demo.png')"
      ],
      "metadata": {
        "colab": {
          "base_uri": "https://localhost:8080/",
          "height": 295
        },
        "id": "SNQWS2NfRZii",
        "outputId": "742e728b-8833-40f0-b5bf-df301a293958"
      },
      "execution_count": 25,
      "outputs": [
        {
          "output_type": "display_data",
          "data": {
            "text/plain": [
              "<Figure size 432x288 with 1 Axes>"
            ],
            "image/png": "[encoded data removed]"
          },
          "metadata": {
            "needs_background": "light"
          }
        }
      ]
    },
    {
      "cell_type": "code",
      "source": [
        ""
      ],
      "metadata": {
        "id": "vlYBSdC3Ruwt"
      },
      "execution_count": null,
      "outputs": []
    }
  ]
}