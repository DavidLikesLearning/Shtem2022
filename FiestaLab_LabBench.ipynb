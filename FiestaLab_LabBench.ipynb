{
  "cells": [
    {
      "cell_type": "code",
      "execution_count": null,
      "metadata": {
        "id": "Xr_aBm6gAvGk",
        "colab": {
          "base_uri": "https://localhost:8080/"
        },
        "outputId": "e8a941f4-c43e-41b3-cc88-e63e0199cc5a"
      },
      "outputs": [
        {
          "output_type": "stream",
          "name": "stdout",
          "text": [
            "Drive already mounted at /content/drive; to attempt to forcibly remount, call drive.mount(\"/content/drive\", force_remount=True).\n"
          ]
        }
      ],
      "source": [
        "import numpy as np\n",
        "import pandas as pd\n",
        "import matplotlib.pyplot as plt\n",
        "import tensorflow as tf\n",
        "from tensorflow import keras\n",
        "from tensorflow.keras import layers\n",
        "import time\n",
        "from google.colab import drive\n",
        "drive.mount('/content/drive')"
      ]
    },
    {
      "cell_type": "code",
      "source": [
        "catmednan = np.load('/content/drive/MyDrive/Students/catCirrMedNan.npy')"
      ],
      "metadata": {
        "id": "6gDTD0uxzR-D"
      },
      "execution_count": null,
      "outputs": []
    },
    {
      "cell_type": "code",
      "source": [
        "mednan = np.load('/content/drive/MyDrive/Students/cirrhosis_medNaN.npy')"
      ],
      "metadata": {
        "id": "CQ6KzbZX0QXB"
      },
      "execution_count": null,
      "outputs": []
    },
    {
      "cell_type": "code",
      "source": [
        "model = keras.Sequential([\n",
        "        layers.Dense(100, activation=\"relu\", \n",
        "                     kernel_regularizer=keras.regularizers.L2(.01)),\n",
        "        layers.Dense(4,activation= 'softmax',\n",
        "                     kernel_regularizer=keras.regularizers.L2(.01))])\n",
        "model.compile(\n",
        "    loss=keras.losses.CategoricalCrossentropy(),\n",
        "    optimizer=tf.keras.optimizers.Adam(learning_rate=2e-3),\n",
        "    metrics=[ 'accuracy'])\n",
        "history = model.fit(catmednan[:,:-4],catmednan[:,-4:],epochs=50)"
      ],
      "metadata": {
        "colab": {
          "base_uri": "https://localhost:8080/"
        },
        "id": "fLKNZlyPPg-L",
        "outputId": "872b2bd2-420d-413c-ff52-b451cf61d60d"
      },
      "execution_count": null,
      "outputs": [
        {
          "output_type": "stream",
          "name": "stdout",
          "text": [
            "Epoch 1/50\n",
            "13/13 [==============================] - 1s 2ms/step - loss: 497.0050 - categorical_accuracy: 0.2816 - accuracy: 0.2816\n",
            "Epoch 2/50\n",
            "13/13 [==============================] - 0s 2ms/step - loss: 189.8485 - categorical_accuracy: 0.3034 - accuracy: 0.3034\n",
            "Epoch 3/50\n",
            "13/13 [==============================] - 0s 2ms/step - loss: 87.6089 - categorical_accuracy: 0.3835 - accuracy: 0.3835\n",
            "Epoch 4/50\n",
            "13/13 [==============================] - 0s 2ms/step - loss: 49.3697 - categorical_accuracy: 0.3981 - accuracy: 0.3981\n",
            "Epoch 5/50\n",
            "13/13 [==============================] - 0s 2ms/step - loss: 35.1412 - categorical_accuracy: 0.3519 - accuracy: 0.3519\n",
            "Epoch 6/50\n",
            "13/13 [==============================] - 0s 2ms/step - loss: 34.4972 - categorical_accuracy: 0.3811 - accuracy: 0.3811\n",
            "Epoch 7/50\n",
            "13/13 [==============================] - 0s 3ms/step - loss: 47.8676 - categorical_accuracy: 0.3617 - accuracy: 0.3617\n",
            "Epoch 8/50\n",
            "13/13 [==============================] - 0s 2ms/step - loss: 50.3855 - categorical_accuracy: 0.4126 - accuracy: 0.4126\n",
            "Epoch 9/50\n",
            "13/13 [==============================] - 0s 2ms/step - loss: 37.5678 - categorical_accuracy: 0.3592 - accuracy: 0.3592\n",
            "Epoch 10/50\n",
            "13/13 [==============================] - 0s 2ms/step - loss: 39.9587 - categorical_accuracy: 0.3883 - accuracy: 0.3883\n",
            "Epoch 11/50\n",
            "13/13 [==============================] - 0s 2ms/step - loss: 29.0352 - categorical_accuracy: 0.4175 - accuracy: 0.4175\n",
            "Epoch 12/50\n",
            "13/13 [==============================] - 0s 2ms/step - loss: 29.8981 - categorical_accuracy: 0.4320 - accuracy: 0.4320\n",
            "Epoch 13/50\n",
            "13/13 [==============================] - 0s 2ms/step - loss: 40.6038 - categorical_accuracy: 0.3859 - accuracy: 0.3859\n",
            "Epoch 14/50\n",
            "13/13 [==============================] - 0s 2ms/step - loss: 50.0178 - categorical_accuracy: 0.4102 - accuracy: 0.4102\n",
            "Epoch 15/50\n",
            "13/13 [==============================] - 0s 2ms/step - loss: 39.9661 - categorical_accuracy: 0.3665 - accuracy: 0.3665\n",
            "Epoch 16/50\n",
            "13/13 [==============================] - 0s 2ms/step - loss: 31.6450 - categorical_accuracy: 0.4563 - accuracy: 0.4563\n",
            "Epoch 17/50\n",
            "13/13 [==============================] - 0s 2ms/step - loss: 48.6889 - categorical_accuracy: 0.3665 - accuracy: 0.3665\n",
            "Epoch 18/50\n",
            "13/13 [==============================] - 0s 2ms/step - loss: 57.0456 - categorical_accuracy: 0.3641 - accuracy: 0.3641\n",
            "Epoch 19/50\n",
            "13/13 [==============================] - 0s 2ms/step - loss: 66.9133 - categorical_accuracy: 0.3981 - accuracy: 0.3981\n",
            "Epoch 20/50\n",
            "13/13 [==============================] - 0s 2ms/step - loss: 53.2493 - categorical_accuracy: 0.3811 - accuracy: 0.3811\n",
            "Epoch 21/50\n",
            "13/13 [==============================] - 0s 2ms/step - loss: 44.3621 - categorical_accuracy: 0.4126 - accuracy: 0.4126\n",
            "Epoch 22/50\n",
            "13/13 [==============================] - 0s 2ms/step - loss: 35.3404 - categorical_accuracy: 0.4102 - accuracy: 0.4102\n",
            "Epoch 23/50\n",
            "13/13 [==============================] - 0s 2ms/step - loss: 36.9307 - categorical_accuracy: 0.4272 - accuracy: 0.4272\n",
            "Epoch 24/50\n",
            "13/13 [==============================] - 0s 2ms/step - loss: 20.6911 - categorical_accuracy: 0.4806 - accuracy: 0.4806\n",
            "Epoch 25/50\n",
            "13/13 [==============================] - 0s 2ms/step - loss: 29.3451 - categorical_accuracy: 0.3738 - accuracy: 0.3738\n",
            "Epoch 26/50\n",
            "13/13 [==============================] - 0s 2ms/step - loss: 36.1218 - categorical_accuracy: 0.4175 - accuracy: 0.4175\n",
            "Epoch 27/50\n",
            "13/13 [==============================] - 0s 2ms/step - loss: 34.0153 - categorical_accuracy: 0.3859 - accuracy: 0.3859\n",
            "Epoch 28/50\n",
            "13/13 [==============================] - 0s 2ms/step - loss: 39.9902 - categorical_accuracy: 0.4515 - accuracy: 0.4515\n",
            "Epoch 29/50\n",
            "13/13 [==============================] - 0s 2ms/step - loss: 59.4358 - categorical_accuracy: 0.3786 - accuracy: 0.3786\n",
            "Epoch 30/50\n",
            "13/13 [==============================] - 0s 3ms/step - loss: 38.9217 - categorical_accuracy: 0.4053 - accuracy: 0.4053\n",
            "Epoch 31/50\n",
            "13/13 [==============================] - 0s 2ms/step - loss: 30.8838 - categorical_accuracy: 0.4248 - accuracy: 0.4248\n",
            "Epoch 32/50\n",
            "13/13 [==============================] - 0s 2ms/step - loss: 35.3588 - categorical_accuracy: 0.4223 - accuracy: 0.4223\n",
            "Epoch 33/50\n",
            "13/13 [==============================] - 0s 2ms/step - loss: 39.9075 - categorical_accuracy: 0.3447 - accuracy: 0.3447\n",
            "Epoch 34/50\n",
            "13/13 [==============================] - 0s 2ms/step - loss: 47.9321 - categorical_accuracy: 0.3738 - accuracy: 0.3738\n",
            "Epoch 35/50\n",
            "13/13 [==============================] - 0s 2ms/step - loss: 23.7562 - categorical_accuracy: 0.4490 - accuracy: 0.4490\n",
            "Epoch 36/50\n",
            "13/13 [==============================] - 0s 2ms/step - loss: 21.3494 - categorical_accuracy: 0.3981 - accuracy: 0.3981\n",
            "Epoch 37/50\n",
            "13/13 [==============================] - 0s 2ms/step - loss: 19.1829 - categorical_accuracy: 0.4272 - accuracy: 0.4272\n",
            "Epoch 38/50\n",
            "13/13 [==============================] - 0s 2ms/step - loss: 30.7130 - categorical_accuracy: 0.3932 - accuracy: 0.3932\n",
            "Epoch 39/50\n",
            "13/13 [==============================] - 0s 2ms/step - loss: 30.9794 - categorical_accuracy: 0.3956 - accuracy: 0.3956\n",
            "Epoch 40/50\n",
            "13/13 [==============================] - 0s 2ms/step - loss: 34.5944 - categorical_accuracy: 0.4199 - accuracy: 0.4199\n",
            "Epoch 41/50\n",
            "13/13 [==============================] - 0s 2ms/step - loss: 47.8215 - categorical_accuracy: 0.3811 - accuracy: 0.3811\n",
            "Epoch 42/50\n",
            "13/13 [==============================] - 0s 2ms/step - loss: 31.9727 - categorical_accuracy: 0.4150 - accuracy: 0.4150\n",
            "Epoch 43/50\n",
            "13/13 [==============================] - 0s 2ms/step - loss: 22.1716 - categorical_accuracy: 0.4175 - accuracy: 0.4175\n",
            "Epoch 44/50\n",
            "13/13 [==============================] - 0s 2ms/step - loss: 24.1525 - categorical_accuracy: 0.4903 - accuracy: 0.4903\n",
            "Epoch 45/50\n",
            "13/13 [==============================] - 0s 2ms/step - loss: 20.3648 - categorical_accuracy: 0.4345 - accuracy: 0.4345\n",
            "Epoch 46/50\n",
            "13/13 [==============================] - 0s 2ms/step - loss: 41.3047 - categorical_accuracy: 0.3641 - accuracy: 0.3641\n",
            "Epoch 47/50\n",
            "13/13 [==============================] - 0s 2ms/step - loss: 45.0173 - categorical_accuracy: 0.3908 - accuracy: 0.3908\n",
            "Epoch 48/50\n",
            "13/13 [==============================] - 0s 2ms/step - loss: 49.0088 - categorical_accuracy: 0.3447 - accuracy: 0.3447\n",
            "Epoch 49/50\n",
            "13/13 [==============================] - 0s 2ms/step - loss: 64.6355 - categorical_accuracy: 0.3689 - accuracy: 0.3689\n",
            "Epoch 50/50\n",
            "13/13 [==============================] - 0s 2ms/step - loss: 36.0626 - categorical_accuracy: 0.4102 - accuracy: 0.4102\n"
          ]
        }
      ]
    },
    {
      "cell_type": "markdown",
      "source": [
        "## testing metrics"
      ],
      "metadata": {
        "id": "msi-sF-zdvfq"
      }
    },
    {
      "cell_type": "code",
      "source": [
        "pred = model.predict(mednan[:,:-1])"
      ],
      "metadata": {
        "id": "vk1-3uMiS2wC"
      },
      "execution_count": null,
      "outputs": []
    },
    {
      "cell_type": "code",
      "source": [
        "intpred = np.argmax(pred,axis=1)+1\n"
      ],
      "metadata": {
        "id": "hzaIKJH0T2pK"
      },
      "execution_count": null,
      "outputs": []
    },
    {
      "cell_type": "code",
      "source": [
        "plt.plot( mednan[:,-1])\n",
        "plt.plot( intpred)\n",
        "rmse = np.sqrt(np.mean(np.square(mednan[:,-1]-intpred)))"
      ],
      "metadata": {
        "colab": {
          "base_uri": "https://localhost:8080/",
          "height": 265
        },
        "id": "ImXJmL6AUNw4",
        "outputId": "cb76b5e1-4b10-45b0-d27b-e22989920c16"
      },
      "execution_count": null,
      "outputs": [
        {
          "output_type": "display_data",
          "data": {
            "text/plain": [
              "<Figure size 432x288 with 1 Axes>"
            ],
            "image/png": "[encoded data removed]"
          },
          "metadata": {
            "needs_background": "light"
          }
        }
      ]
    },
    {
      "cell_type": "code",
      "source": [
        "for key in history.history:\n",
        "  print(key,history.history[key][-3:])\n",
        "print('rmse',rmse)"
      ],
      "metadata": {
        "colab": {
          "base_uri": "https://localhost:8080/"
        },
        "id": "-jWSVnpIUPDJ",
        "outputId": "93939a63-3a3e-459d-c77c-589a97939e34"
      },
      "execution_count": null,
      "outputs": [
        {
          "output_type": "stream",
          "name": "stdout",
          "text": [
            "loss [49.008846282958984, 64.63551330566406, 36.06263732910156]\n",
            "categorical_accuracy [0.3446601927280426, 0.3689320385456085, 0.41019418835639954]\n",
            "accuracy [0.3446601927280426, 0.3689320385456085, 0.41019418835639954]\n",
            "rmse 0.8604018027270296\n"
          ]
        }
      ]
    },
    {
      "cell_type": "code",
      "source": [
        "curvepred = pred @ np.array([[1],[2],[3],[4]])"
      ],
      "metadata": {
        "id": "tw8q-yvFVIVt"
      },
      "execution_count": null,
      "outputs": []
    },
    {
      "cell_type": "code",
      "source": [
        "plt.plot( mednan[:,-1])\n",
        "plt.plot( curvepred)\n",
        "curvermse = np.sqrt(np.mean(np.square(mednan[:,-1]-curvepred)))"
      ],
      "metadata": {
        "colab": {
          "base_uri": "https://localhost:8080/",
          "height": 265
        },
        "id": "ZV97tR7ncO0w",
        "outputId": "1b973a13-89e9-4248-90ad-4de8d4308d1c"
      },
      "execution_count": null,
      "outputs": [
        {
          "output_type": "display_data",
          "data": {
            "text/plain": [
              "<Figure size 432x288 with 1 Axes>"
            ],
            "image/png": "[encoded data removed]"
          },
          "metadata": {
            "needs_background": "light"
          }
        }
      ]
    },
    {
      "cell_type": "code",
      "source": [
        "curvermse"
      ],
      "metadata": {
        "colab": {
          "base_uri": "https://localhost:8080/"
        },
        "id": "UxxGf7GVdUsO",
        "outputId": "3908dbc9-f698-4447-9bcd-45279a091876"
      },
      "execution_count": null,
      "outputs": [
        {
          "output_type": "execute_result",
          "data": {
            "text/plain": [
              "0.9781221242871795"
            ]
          },
          "metadata": {},
          "execution_count": 52
        }
      ]
    },
    {
      "cell_type": "code",
      "source": [
        "plt.hist(mednan[:,-1])"
      ],
      "metadata": {
        "colab": {
          "base_uri": "https://localhost:8080/",
          "height": 318
        },
        "id": "YiHZPQD8dXr2",
        "outputId": "f0905fa4-9861-4ea2-b467-277fb2041872"
      },
      "execution_count": null,
      "outputs": [
        {
          "output_type": "execute_result",
          "data": {
            "text/plain": [
              "(array([ 21.,   0.,   0.,  92.,   0.,   0., 155.,   0.,   0., 144.]),\n",
              " array([1. , 1.3, 1.6, 1.9, 2.2, 2.5, 2.8, 3.1, 3.4, 3.7, 4. ]),\n",
              " <a list of 10 Patch objects>)"
            ]
          },
          "metadata": {},
          "execution_count": 53
        },
        {
          "output_type": "display_data",
          "data": {
            "text/plain": [
              "<Figure size 432x288 with 1 Axes>"
            ],
            "image/png": "[encoded data removed]"
          },
          "metadata": {
            "needs_background": "light"
          }
        }
      ]
    },
    {
      "cell_type": "code",
      "source": [
        "plt.hist(mednan[325:,-1])"
      ],
      "metadata": {
        "colab": {
          "base_uri": "https://localhost:8080/",
          "height": 317
        },
        "id": "XInryJh-fk2c",
        "outputId": "cdfd18f4-eac2-4ddd-84ef-795d772b332b"
      },
      "execution_count": null,
      "outputs": [
        {
          "output_type": "execute_result",
          "data": {
            "text/plain": [
              "(array([ 5.,  0.,  0., 19.,  0.,  0., 33.,  0.,  0., 30.]),\n",
              " array([1. , 1.3, 1.6, 1.9, 2.2, 2.5, 2.8, 3.1, 3.4, 3.7, 4. ]),\n",
              " <a list of 10 Patch objects>)"
            ]
          },
          "metadata": {},
          "execution_count": 59
        },
        {
          "output_type": "display_data",
          "data": {
            "text/plain": [
              "<Figure size 432x288 with 1 Axes>"
            ],
            "image/png": "[encoded data removed]"
          },
          "metadata": {
            "needs_background": "light"
          }
        }
      ]
    },
    {
      "cell_type": "code",
      "source": [
        "def tstr():\n",
        "    '''\n",
        "    provides a string of current time in PST\n",
        "    for time sensitive file names with no colons or spaces\n",
        "    '''\n",
        "    out = ''\n",
        "    for i in time.ctime():\n",
        "        if i!=' ' and i!=':':\n",
        "            out+=i\n",
        "        else:\n",
        "            out+='_'\n",
        "    return out"
      ],
      "metadata": {
        "id": "lj4zapfZkh9k"
      },
      "execution_count": null,
      "outputs": []
    },
    {
      "cell_type": "code",
      "source": [
        "EPOCHS = 50\n",
        "L2REG = 1e-2\n",
        "LR = 1e-3\n",
        "SAVE = False\n",
        "LABEL = ('100_LR:'+str(LR)+'_REG:'+str(L2REG)+\n",
        "         '_EPOCH:'+str(EPOCHS))\n",
        "model = keras.Sequential([\n",
        "        layers.Dense(100, activation=\"relu\", \n",
        "                kernel_regularizer=keras.regularizers.L2(L2REG )),\n",
        "        layers.Dense(4,activation= 'softmax',\n",
        "                kernel_regularizer=keras.regularizers.L2(L2REG ))])\n",
        "model.compile(\n",
        "    loss=keras.losses.CategoricalCrossentropy(),\n",
        "    optimizer=tf.keras.optimizers.Adam(learning_rate=LR),\n",
        "    metrics=[ 'accuracy'])\n",
        "hist = model.fit(catmednan[:325,:-4],catmednan[:325,-4:],\n",
        "                 epochs=EPOCHS,\n",
        "                 validation_data=(catmednan[325:,:-4],\n",
        "                                  catmednan[325:,-4:]))"
      ],
      "metadata": {
        "colab": {
          "base_uri": "https://localhost:8080/"
        },
        "id": "Z1GoDFBnfqcy",
        "outputId": "a740d4e9-0f0b-472a-b4ba-525a14b22bb2"
      },
      "execution_count": null,
      "outputs": [
        {
          "output_type": "stream",
          "name": "stdout",
          "text": [
            "Epoch 1/50\n",
            "11/11 [==============================] - 1s 25ms/step - loss: 266.5125 - accuracy: 0.3692 - val_loss: 137.9086 - val_accuracy: 0.4253\n",
            "Epoch 2/50\n",
            "11/11 [==============================] - 0s 5ms/step - loss: 128.9035 - accuracy: 0.3354 - val_loss: 63.5844 - val_accuracy: 0.2299\n",
            "Epoch 3/50\n",
            "11/11 [==============================] - 0s 8ms/step - loss: 69.4628 - accuracy: 0.3815 - val_loss: 29.5783 - val_accuracy: 0.4598\n",
            "Epoch 4/50\n",
            "11/11 [==============================] - 0s 5ms/step - loss: 49.3145 - accuracy: 0.3354 - val_loss: 25.4638 - val_accuracy: 0.4828\n",
            "Epoch 5/50\n",
            "11/11 [==============================] - 0s 7ms/step - loss: 45.8937 - accuracy: 0.4246 - val_loss: 16.4934 - val_accuracy: 0.4713\n",
            "Epoch 6/50\n",
            "11/11 [==============================] - 0s 5ms/step - loss: 28.6278 - accuracy: 0.3938 - val_loss: 24.8117 - val_accuracy: 0.3793\n",
            "Epoch 7/50\n",
            "11/11 [==============================] - 0s 5ms/step - loss: 24.4910 - accuracy: 0.3477 - val_loss: 13.8974 - val_accuracy: 0.4368\n",
            "Epoch 8/50\n",
            "11/11 [==============================] - 0s 5ms/step - loss: 24.2514 - accuracy: 0.3785 - val_loss: 40.7591 - val_accuracy: 0.3793\n",
            "Epoch 9/50\n",
            "11/11 [==============================] - 0s 6ms/step - loss: 31.2592 - accuracy: 0.3908 - val_loss: 9.3878 - val_accuracy: 0.4368\n",
            "Epoch 10/50\n",
            "11/11 [==============================] - 0s 6ms/step - loss: 28.5585 - accuracy: 0.4123 - val_loss: 36.0173 - val_accuracy: 0.4483\n",
            "Epoch 11/50\n",
            "11/11 [==============================] - 0s 7ms/step - loss: 23.2476 - accuracy: 0.4369 - val_loss: 35.1251 - val_accuracy: 0.3793\n",
            "Epoch 12/50\n",
            "11/11 [==============================] - 0s 6ms/step - loss: 33.1223 - accuracy: 0.3200 - val_loss: 7.9137 - val_accuracy: 0.3908\n",
            "Epoch 13/50\n",
            "11/11 [==============================] - 0s 7ms/step - loss: 24.5124 - accuracy: 0.4246 - val_loss: 19.6032 - val_accuracy: 0.4943\n",
            "Epoch 14/50\n",
            "11/11 [==============================] - 0s 6ms/step - loss: 16.2013 - accuracy: 0.4431 - val_loss: 12.2399 - val_accuracy: 0.4253\n",
            "Epoch 15/50\n",
            "11/11 [==============================] - 0s 4ms/step - loss: 19.8830 - accuracy: 0.3938 - val_loss: 28.8381 - val_accuracy: 0.1149\n",
            "Epoch 16/50\n",
            "11/11 [==============================] - 0s 5ms/step - loss: 27.1544 - accuracy: 0.4062 - val_loss: 37.0033 - val_accuracy: 0.2184\n",
            "Epoch 17/50\n",
            "11/11 [==============================] - 0s 5ms/step - loss: 16.1595 - accuracy: 0.4154 - val_loss: 21.6766 - val_accuracy: 0.4138\n",
            "Epoch 18/50\n",
            "11/11 [==============================] - 0s 4ms/step - loss: 17.5224 - accuracy: 0.4400 - val_loss: 19.6656 - val_accuracy: 0.4253\n",
            "Epoch 19/50\n",
            "11/11 [==============================] - 0s 6ms/step - loss: 28.2311 - accuracy: 0.3292 - val_loss: 18.4055 - val_accuracy: 0.3793\n",
            "Epoch 20/50\n",
            "11/11 [==============================] - 0s 4ms/step - loss: 21.4059 - accuracy: 0.3754 - val_loss: 32.5166 - val_accuracy: 0.3448\n",
            "Epoch 21/50\n",
            "11/11 [==============================] - 0s 5ms/step - loss: 31.6769 - accuracy: 0.3815 - val_loss: 52.0496 - val_accuracy: 0.2184\n",
            "Epoch 22/50\n",
            "11/11 [==============================] - 0s 4ms/step - loss: 27.5695 - accuracy: 0.4462 - val_loss: 27.0166 - val_accuracy: 0.2759\n",
            "Epoch 23/50\n",
            "11/11 [==============================] - 0s 5ms/step - loss: 42.5992 - accuracy: 0.3569 - val_loss: 18.1855 - val_accuracy: 0.2529\n",
            "Epoch 24/50\n",
            "11/11 [==============================] - 0s 6ms/step - loss: 28.9059 - accuracy: 0.3969 - val_loss: 34.2180 - val_accuracy: 0.3793\n",
            "Epoch 25/50\n",
            "11/11 [==============================] - 0s 5ms/step - loss: 28.8375 - accuracy: 0.4185 - val_loss: 47.2155 - val_accuracy: 0.2299\n",
            "Epoch 26/50\n",
            "11/11 [==============================] - 0s 6ms/step - loss: 32.2148 - accuracy: 0.3877 - val_loss: 17.3848 - val_accuracy: 0.4368\n",
            "Epoch 27/50\n",
            "11/11 [==============================] - 0s 6ms/step - loss: 19.7352 - accuracy: 0.4123 - val_loss: 14.6994 - val_accuracy: 0.3563\n",
            "Epoch 28/50\n",
            "11/11 [==============================] - 0s 5ms/step - loss: 12.5481 - accuracy: 0.4492 - val_loss: 13.4221 - val_accuracy: 0.3793\n",
            "Epoch 29/50\n",
            "11/11 [==============================] - 0s 7ms/step - loss: 10.0191 - accuracy: 0.4462 - val_loss: 17.9006 - val_accuracy: 0.2184\n",
            "Epoch 30/50\n",
            "11/11 [==============================] - 0s 4ms/step - loss: 13.0475 - accuracy: 0.4277 - val_loss: 7.4219 - val_accuracy: 0.3218\n",
            "Epoch 31/50\n",
            "11/11 [==============================] - 0s 5ms/step - loss: 12.5195 - accuracy: 0.4523 - val_loss: 11.7099 - val_accuracy: 0.3908\n",
            "Epoch 32/50\n",
            "11/11 [==============================] - 0s 6ms/step - loss: 28.3645 - accuracy: 0.3969 - val_loss: 22.5150 - val_accuracy: 0.4368\n",
            "Epoch 33/50\n",
            "11/11 [==============================] - 0s 5ms/step - loss: 14.2377 - accuracy: 0.4308 - val_loss: 16.6575 - val_accuracy: 0.3908\n",
            "Epoch 34/50\n",
            "11/11 [==============================] - 0s 5ms/step - loss: 18.6371 - accuracy: 0.3385 - val_loss: 23.3754 - val_accuracy: 0.3908\n",
            "Epoch 35/50\n",
            "11/11 [==============================] - 0s 6ms/step - loss: 25.2925 - accuracy: 0.3692 - val_loss: 23.3069 - val_accuracy: 0.3793\n",
            "Epoch 36/50\n",
            "11/11 [==============================] - 0s 6ms/step - loss: 22.8212 - accuracy: 0.4277 - val_loss: 47.8459 - val_accuracy: 0.3448\n",
            "Epoch 37/50\n",
            "11/11 [==============================] - 0s 6ms/step - loss: 39.7705 - accuracy: 0.3662 - val_loss: 25.5087 - val_accuracy: 0.4598\n",
            "Epoch 38/50\n",
            "11/11 [==============================] - 0s 5ms/step - loss: 33.9950 - accuracy: 0.3969 - val_loss: 19.5603 - val_accuracy: 0.4598\n",
            "Epoch 39/50\n",
            "11/11 [==============================] - 0s 6ms/step - loss: 21.6503 - accuracy: 0.4523 - val_loss: 49.7811 - val_accuracy: 0.2184\n",
            "Epoch 40/50\n",
            "11/11 [==============================] - 0s 6ms/step - loss: 32.6378 - accuracy: 0.3477 - val_loss: 28.9495 - val_accuracy: 0.3448\n",
            "Epoch 41/50\n",
            "11/11 [==============================] - 0s 4ms/step - loss: 29.6927 - accuracy: 0.3692 - val_loss: 73.3507 - val_accuracy: 0.3448\n",
            "Epoch 42/50\n",
            "11/11 [==============================] - 0s 6ms/step - loss: 33.8483 - accuracy: 0.3938 - val_loss: 31.0050 - val_accuracy: 0.3103\n",
            "Epoch 43/50\n",
            "11/11 [==============================] - 0s 6ms/step - loss: 21.0967 - accuracy: 0.4431 - val_loss: 13.3313 - val_accuracy: 0.4598\n",
            "Epoch 44/50\n",
            "11/11 [==============================] - 0s 5ms/step - loss: 12.6475 - accuracy: 0.5015 - val_loss: 11.3254 - val_accuracy: 0.4483\n",
            "Epoch 45/50\n",
            "11/11 [==============================] - 0s 5ms/step - loss: 20.5157 - accuracy: 0.3785 - val_loss: 22.5328 - val_accuracy: 0.3448\n",
            "Epoch 46/50\n",
            "11/11 [==============================] - 0s 7ms/step - loss: 11.9221 - accuracy: 0.4308 - val_loss: 33.1335 - val_accuracy: 0.3333\n",
            "Epoch 47/50\n",
            "11/11 [==============================] - 0s 5ms/step - loss: 24.8419 - accuracy: 0.3969 - val_loss: 25.5495 - val_accuracy: 0.4023\n",
            "Epoch 48/50\n",
            "11/11 [==============================] - 0s 6ms/step - loss: 25.0076 - accuracy: 0.4154 - val_loss: 30.7701 - val_accuracy: 0.3793\n",
            "Epoch 49/50\n",
            "11/11 [==============================] - 0s 6ms/step - loss: 16.1075 - accuracy: 0.4031 - val_loss: 24.7031 - val_accuracy: 0.4828\n",
            "Epoch 50/50\n",
            "11/11 [==============================] - 0s 7ms/step - loss: 23.0119 - accuracy: 0.4708 - val_loss: 38.0221 - val_accuracy: 0.3793\n"
          ]
        }
      ]
    },
    {
      "cell_type": "code",
      "source": [
        "pred= model.predict(catmednan[:,:-4])\n",
        "curvepred = pred @ np.array([[1],[2],[3],[4]])\n",
        "plt.plot( mednan[:,-1])\n",
        "plt.plot( curvepred)\n",
        "curvermse = np.sqrt(np.mean(np.square(mednan[:,-1]-curvepred)))"
      ],
      "metadata": {
        "colab": {
          "base_uri": "https://localhost:8080/",
          "height": 265
        },
        "id": "PcldAcLpjLFU",
        "outputId": "18417c0d-e3e6-4ac9-e9f8-2263411e93d5"
      },
      "execution_count": null,
      "outputs": [
        {
          "output_type": "display_data",
          "data": {
            "text/plain": [
              "<Figure size 432x288 with 1 Axes>"
            ],
            "image/png": "[encoded data removed]"
          },
          "metadata": {
            "needs_background": "light"
          }
        }
      ]
    },
    {
      "cell_type": "code",
      "source": [
        "hist.history['rmse']=[curvermse]*EPOCHS"
      ],
      "metadata": {
        "id": "k_NVf9PngyaA"
      },
      "execution_count": null,
      "outputs": []
    },
    {
      "cell_type": "code",
      "source": [
        "df = pd.DataFrame(hist.history)"
      ],
      "metadata": {
        "id": "oVRUTP0YicIW"
      },
      "execution_count": null,
      "outputs": []
    },
    {
      "cell_type": "code",
      "source": [
        "tstr()[4:-8]\n"
      ],
      "metadata": {
        "colab": {
          "base_uri": "https://localhost:8080/",
          "height": 35
        },
        "id": "BFRbLyt1j2s8",
        "outputId": "fad1f1c3-1a19-4c18-ff41-0606dac548c4"
      },
      "execution_count": null,
      "outputs": [
        {
          "output_type": "execute_result",
          "data": {
            "text/plain": [
              "'Jul_19_04_06'"
            ],
            "application/vnd.google.colaboratory.intrinsic+json": {
              "type": "string"
            }
          },
          "metadata": {},
          "execution_count": 11
        }
      ]
    },
    {
      "cell_type": "code",
      "source": [
        "rmses = {}\n",
        "\n",
        "EPOCHS = 30\n",
        "L2REG = 1e-2\n",
        "LR = 1e-3\n",
        "SAVE = False\n",
        "for L2REG in [1e-2, 3e-2,1e-1]:\n",
        "  for LR in [3e-4,1e-3,3e-3]:\n",
        "    LABEL = ('100_LR:'+str(LR)+'_REG:'+str(L2REG)+\n",
        "            '_EPOCH:'+str(EPOCHS))\n",
        "    \n",
        "    print(\n",
        "      '\\n\\n\\n\\nRunning '+LABEL+' experiment'\n",
        "    )\n",
        "    model = keras.Sequential([\n",
        "            layers.Dense(100, activation=\"relu\", \n",
        "                    kernel_regularizer=keras.regularizers.L2(L2REG )),\n",
        "            layers.Dense(4,activation= 'softmax',\n",
        "                    kernel_regularizer=keras.regularizers.L2(L2REG ))])\n",
        "    model.compile(\n",
        "        loss=keras.losses.CategoricalCrossentropy(),\n",
        "        optimizer=tf.keras.optimizers.Adam(learning_rate=LR),\n",
        "        metrics=[ 'accuracy'])\n",
        "    hist = model.fit(catmednan[:325,:-4],catmednan[:325,-4:],\n",
        "                    epochs=EPOCHS,\n",
        "                    validation_data=(catmednan[325:,:-4],\n",
        "                                      catmednan[325:,-4:]))\n",
        "    \n",
        "\n",
        "    pred= model.predict(catmednan[:,:-4])\n",
        "    curvepred = pred @ np.array([[1],[2],[3],[4]])\n",
        "    curvermse = np.sqrt(np.mean(np.square(mednan[:,-1]-curvepred)))\n",
        "\n",
        "    rmses[LABEL] = curvermse\n",
        "\n",
        "rmseDF = pd.DataFrame(rmses, index=['rmse'])\n",
        "rmseDF.to_csv('/content/drive/MyDrive/Students/DavidTests'+tstr()[4:-8]+'.csv')"
      ],
      "metadata": {
        "id": "pMD5zr05kCdn",
        "colab": {
          "base_uri": "https://localhost:8080/"
        },
        "outputId": "f20d4d1c-cfb0-4e51-9be5-7a5bf9c1eb99"
      },
      "execution_count": null,
      "outputs": [
        {
          "output_type": "stream",
          "name": "stdout",
          "text": [
            "\n",
            "\n",
            "\n",
            "\n",
            "Running 100_LR:0.0003_REG:0.01_EPOCH:30 experiment\n",
            "Epoch 1/30\n",
            "11/11 [==============================] - 1s 20ms/step - loss: 1105.0133 - accuracy: 0.3723 - val_loss: 895.6395 - val_accuracy: 0.4023\n",
            "Epoch 2/30\n",
            "11/11 [==============================] - 0s 5ms/step - loss: 750.1364 - accuracy: 0.3908 - val_loss: 533.3167 - val_accuracy: 0.4253\n",
            "Epoch 3/30\n",
            "11/11 [==============================] - 0s 4ms/step - loss: 401.6268 - accuracy: 0.3692 - val_loss: 179.1266 - val_accuracy: 0.4023\n",
            "Epoch 4/30\n",
            "11/11 [==============================] - 0s 6ms/step - loss: 132.4520 - accuracy: 0.4615 - val_loss: 135.9396 - val_accuracy: 0.4368\n",
            "Epoch 5/30\n",
            "11/11 [==============================] - 0s 6ms/step - loss: 123.4961 - accuracy: 0.4246 - val_loss: 81.8475 - val_accuracy: 0.4253\n",
            "Epoch 6/30\n",
            "11/11 [==============================] - 0s 6ms/step - loss: 86.7309 - accuracy: 0.4462 - val_loss: 50.9213 - val_accuracy: 0.4598\n",
            "Epoch 7/30\n",
            "11/11 [==============================] - 0s 7ms/step - loss: 69.1069 - accuracy: 0.4431 - val_loss: 43.5737 - val_accuracy: 0.4483\n",
            "Epoch 8/30\n",
            "11/11 [==============================] - 0s 7ms/step - loss: 59.3265 - accuracy: 0.4185 - val_loss: 49.2675 - val_accuracy: 0.4598\n",
            "Epoch 9/30\n",
            "11/11 [==============================] - 0s 6ms/step - loss: 58.7990 - accuracy: 0.4769 - val_loss: 61.8363 - val_accuracy: 0.4253\n",
            "Epoch 10/30\n",
            "11/11 [==============================] - 0s 6ms/step - loss: 62.0487 - accuracy: 0.4738 - val_loss: 37.2375 - val_accuracy: 0.4598\n",
            "Epoch 11/30\n",
            "11/11 [==============================] - 0s 6ms/step - loss: 46.0318 - accuracy: 0.4769 - val_loss: 48.2242 - val_accuracy: 0.4253\n",
            "Epoch 12/30\n",
            "11/11 [==============================] - 0s 7ms/step - loss: 45.2949 - accuracy: 0.4677 - val_loss: 33.7272 - val_accuracy: 0.4828\n",
            "Epoch 13/30\n",
            "11/11 [==============================] - 0s 4ms/step - loss: 38.0982 - accuracy: 0.4985 - val_loss: 39.2054 - val_accuracy: 0.4368\n",
            "Epoch 14/30\n",
            "11/11 [==============================] - 0s 6ms/step - loss: 36.0139 - accuracy: 0.4862 - val_loss: 36.8563 - val_accuracy: 0.3793\n",
            "Epoch 15/30\n",
            "11/11 [==============================] - 0s 7ms/step - loss: 38.2862 - accuracy: 0.4585 - val_loss: 29.5552 - val_accuracy: 0.4598\n",
            "Epoch 16/30\n",
            "11/11 [==============================] - 0s 6ms/step - loss: 31.2018 - accuracy: 0.4892 - val_loss: 25.2830 - val_accuracy: 0.4598\n",
            "Epoch 17/30\n",
            "11/11 [==============================] - 0s 5ms/step - loss: 31.8158 - accuracy: 0.4738 - val_loss: 33.9492 - val_accuracy: 0.4828\n",
            "Epoch 18/30\n",
            "11/11 [==============================] - 0s 5ms/step - loss: 26.9445 - accuracy: 0.4769 - val_loss: 26.4611 - val_accuracy: 0.4368\n",
            "Epoch 19/30\n",
            "11/11 [==============================] - 0s 4ms/step - loss: 26.5693 - accuracy: 0.4862 - val_loss: 33.4394 - val_accuracy: 0.4253\n",
            "Epoch 20/30\n",
            "11/11 [==============================] - 0s 6ms/step - loss: 28.4372 - accuracy: 0.4492 - val_loss: 22.0568 - val_accuracy: 0.4368\n",
            "Epoch 21/30\n",
            "11/11 [==============================] - 0s 6ms/step - loss: 24.2902 - accuracy: 0.4462 - val_loss: 21.9692 - val_accuracy: 0.4253\n",
            "Epoch 22/30\n",
            "11/11 [==============================] - 0s 6ms/step - loss: 21.8935 - accuracy: 0.5138 - val_loss: 23.9423 - val_accuracy: 0.3908\n",
            "Epoch 23/30\n",
            "11/11 [==============================] - 0s 6ms/step - loss: 24.5950 - accuracy: 0.4277 - val_loss: 28.0448 - val_accuracy: 0.4483\n",
            "Epoch 24/30\n",
            "11/11 [==============================] - 0s 7ms/step - loss: 22.5158 - accuracy: 0.4954 - val_loss: 21.7958 - val_accuracy: 0.3793\n",
            "Epoch 25/30\n",
            "11/11 [==============================] - 0s 7ms/step - loss: 19.2355 - accuracy: 0.4554 - val_loss: 22.5766 - val_accuracy: 0.4138\n",
            "Epoch 26/30\n",
            "11/11 [==============================] - 0s 6ms/step - loss: 18.9210 - accuracy: 0.4554 - val_loss: 26.2635 - val_accuracy: 0.4483\n",
            "Epoch 27/30\n",
            "11/11 [==============================] - 0s 6ms/step - loss: 18.7356 - accuracy: 0.5015 - val_loss: 22.2433 - val_accuracy: 0.4368\n",
            "Epoch 28/30\n",
            "11/11 [==============================] - 0s 4ms/step - loss: 16.5510 - accuracy: 0.4831 - val_loss: 18.4030 - val_accuracy: 0.3908\n",
            "Epoch 29/30\n",
            "11/11 [==============================] - 0s 5ms/step - loss: 17.1511 - accuracy: 0.4523 - val_loss: 15.2452 - val_accuracy: 0.4138\n",
            "Epoch 30/30\n",
            "11/11 [==============================] - 0s 5ms/step - loss: 15.9134 - accuracy: 0.4862 - val_loss: 16.0283 - val_accuracy: 0.3793\n",
            "\n",
            "\n",
            "\n",
            "\n",
            "Running 100_LR:0.001_REG:0.01_EPOCH:30 experiment\n",
            "Epoch 1/30\n",
            "11/11 [==============================] - 1s 21ms/step - loss: 3303.9978 - accuracy: 0.3754 - val_loss: 2115.1328 - val_accuracy: 0.3793\n",
            "Epoch 2/30\n",
            "11/11 [==============================] - 0s 6ms/step - loss: 1337.0663 - accuracy: 0.3046 - val_loss: 758.5935 - val_accuracy: 0.2069\n",
            "Epoch 3/30\n",
            "11/11 [==============================] - 0s 6ms/step - loss: 435.9919 - accuracy: 0.2369 - val_loss: 325.2727 - val_accuracy: 0.3448\n",
            "Epoch 4/30\n",
            "11/11 [==============================] - 0s 5ms/step - loss: 295.9663 - accuracy: 0.2892 - val_loss: 235.6852 - val_accuracy: 0.3563\n",
            "Epoch 5/30\n",
            "11/11 [==============================] - 0s 5ms/step - loss: 181.4992 - accuracy: 0.3508 - val_loss: 113.8255 - val_accuracy: 0.3333\n",
            "Epoch 6/30\n",
            "11/11 [==============================] - 0s 5ms/step - loss: 127.6282 - accuracy: 0.2923 - val_loss: 79.9329 - val_accuracy: 0.3678\n",
            "Epoch 7/30\n",
            "11/11 [==============================] - 0s 6ms/step - loss: 99.4005 - accuracy: 0.3262 - val_loss: 97.6241 - val_accuracy: 0.3218\n",
            "Epoch 8/30\n",
            "11/11 [==============================] - 0s 7ms/step - loss: 80.5480 - accuracy: 0.3538 - val_loss: 63.4463 - val_accuracy: 0.3793\n",
            "Epoch 9/30\n",
            "11/11 [==============================] - 0s 7ms/step - loss: 76.2817 - accuracy: 0.3508 - val_loss: 70.4175 - val_accuracy: 0.3793\n",
            "Epoch 10/30\n",
            "11/11 [==============================] - 0s 5ms/step - loss: 76.9640 - accuracy: 0.4031 - val_loss: 55.3559 - val_accuracy: 0.3333\n",
            "Epoch 11/30\n",
            "11/11 [==============================] - 0s 4ms/step - loss: 69.6156 - accuracy: 0.3723 - val_loss: 56.4163 - val_accuracy: 0.4368\n",
            "Epoch 12/30\n",
            "11/11 [==============================] - 0s 6ms/step - loss: 59.2477 - accuracy: 0.3815 - val_loss: 49.4698 - val_accuracy: 0.4483\n",
            "Epoch 13/30\n",
            "11/11 [==============================] - 0s 5ms/step - loss: 45.4011 - accuracy: 0.4123 - val_loss: 30.4483 - val_accuracy: 0.4368\n",
            "Epoch 14/30\n",
            "11/11 [==============================] - 0s 5ms/step - loss: 33.6119 - accuracy: 0.3754 - val_loss: 28.8692 - val_accuracy: 0.4713\n",
            "Epoch 15/30\n",
            "11/11 [==============================] - 0s 6ms/step - loss: 36.2380 - accuracy: 0.3846 - val_loss: 31.2327 - val_accuracy: 0.3908\n",
            "Epoch 16/30\n",
            "11/11 [==============================] - 0s 4ms/step - loss: 25.6791 - accuracy: 0.3908 - val_loss: 39.1991 - val_accuracy: 0.3793\n",
            "Epoch 17/30\n",
            "11/11 [==============================] - 0s 8ms/step - loss: 33.4010 - accuracy: 0.3908 - val_loss: 22.4012 - val_accuracy: 0.4828\n",
            "Epoch 18/30\n",
            "11/11 [==============================] - 0s 5ms/step - loss: 19.4734 - accuracy: 0.4492 - val_loss: 29.9887 - val_accuracy: 0.3103\n",
            "Epoch 19/30\n",
            "11/11 [==============================] - 0s 7ms/step - loss: 20.0443 - accuracy: 0.4215 - val_loss: 14.6013 - val_accuracy: 0.3793\n",
            "Epoch 20/30\n",
            "11/11 [==============================] - 0s 5ms/step - loss: 16.5722 - accuracy: 0.3908 - val_loss: 33.9458 - val_accuracy: 0.3678\n",
            "Epoch 21/30\n",
            "11/11 [==============================] - 0s 7ms/step - loss: 25.6669 - accuracy: 0.4677 - val_loss: 16.0459 - val_accuracy: 0.2644\n",
            "Epoch 22/30\n",
            "11/11 [==============================] - 0s 6ms/step - loss: 27.0857 - accuracy: 0.3877 - val_loss: 56.8348 - val_accuracy: 0.3448\n",
            "Epoch 23/30\n",
            "11/11 [==============================] - 0s 7ms/step - loss: 32.4582 - accuracy: 0.3385 - val_loss: 58.5952 - val_accuracy: 0.2644\n",
            "Epoch 24/30\n",
            "11/11 [==============================] - 0s 6ms/step - loss: 43.0992 - accuracy: 0.4215 - val_loss: 61.8107 - val_accuracy: 0.3448\n",
            "Epoch 25/30\n",
            "11/11 [==============================] - 0s 4ms/step - loss: 49.3071 - accuracy: 0.3723 - val_loss: 28.8458 - val_accuracy: 0.3218\n",
            "Epoch 26/30\n",
            "11/11 [==============================] - 0s 4ms/step - loss: 42.0261 - accuracy: 0.3785 - val_loss: 36.1405 - val_accuracy: 0.3333\n",
            "Epoch 27/30\n",
            "11/11 [==============================] - 0s 4ms/step - loss: 26.0389 - accuracy: 0.5138 - val_loss: 19.8094 - val_accuracy: 0.3678\n",
            "Epoch 28/30\n",
            "11/11 [==============================] - 0s 4ms/step - loss: 28.4598 - accuracy: 0.4062 - val_loss: 26.7124 - val_accuracy: 0.3908\n",
            "Epoch 29/30\n",
            "11/11 [==============================] - 0s 5ms/step - loss: 16.4653 - accuracy: 0.4185 - val_loss: 14.1790 - val_accuracy: 0.4828\n",
            "Epoch 30/30\n",
            "11/11 [==============================] - 0s 6ms/step - loss: 20.8922 - accuracy: 0.4523 - val_loss: 25.6104 - val_accuracy: 0.2989\n",
            "\n",
            "\n",
            "\n",
            "\n",
            "Running 100_LR:0.003_REG:0.01_EPOCH:30 experiment\n",
            "Epoch 1/30\n",
            "11/11 [==============================] - 1s 20ms/step - loss: 986.4153 - accuracy: 0.3785 - val_loss: 540.0368 - val_accuracy: 0.1379\n",
            "Epoch 2/30\n",
            "11/11 [==============================] - 0s 6ms/step - loss: 328.6982 - accuracy: 0.3569 - val_loss: 316.2433 - val_accuracy: 0.3793\n",
            "Epoch 3/30\n",
            "11/11 [==============================] - 0s 6ms/step - loss: 221.2299 - accuracy: 0.4215 - val_loss: 191.7753 - val_accuracy: 0.3793\n",
            "Epoch 4/30\n",
            "11/11 [==============================] - 0s 6ms/step - loss: 180.1847 - accuracy: 0.3938 - val_loss: 75.8686 - val_accuracy: 0.4253\n",
            "Epoch 5/30\n",
            "11/11 [==============================] - 0s 6ms/step - loss: 131.3043 - accuracy: 0.3569 - val_loss: 131.9878 - val_accuracy: 0.3793\n",
            "Epoch 6/30\n",
            "11/11 [==============================] - 0s 5ms/step - loss: 111.5786 - accuracy: 0.3969 - val_loss: 111.0886 - val_accuracy: 0.2184\n",
            "Epoch 7/30\n",
            "11/11 [==============================] - 0s 6ms/step - loss: 90.3496 - accuracy: 0.4185 - val_loss: 89.7135 - val_accuracy: 0.2184\n",
            "Epoch 8/30\n",
            "11/11 [==============================] - 0s 6ms/step - loss: 87.1203 - accuracy: 0.3815 - val_loss: 71.2528 - val_accuracy: 0.3908\n",
            "Epoch 9/30\n",
            "11/11 [==============================] - 0s 6ms/step - loss: 73.3470 - accuracy: 0.4246 - val_loss: 128.0959 - val_accuracy: 0.3908\n",
            "Epoch 10/30\n",
            "11/11 [==============================] - 0s 6ms/step - loss: 70.1325 - accuracy: 0.3938 - val_loss: 56.5503 - val_accuracy: 0.3333\n",
            "Epoch 11/30\n",
            "11/11 [==============================] - 0s 6ms/step - loss: 63.9241 - accuracy: 0.4154 - val_loss: 83.9821 - val_accuracy: 0.3563\n",
            "Epoch 12/30\n",
            "11/11 [==============================] - 0s 8ms/step - loss: 57.7374 - accuracy: 0.4246 - val_loss: 28.5677 - val_accuracy: 0.4138\n",
            "Epoch 13/30\n",
            "11/11 [==============================] - 0s 6ms/step - loss: 44.2201 - accuracy: 0.4338 - val_loss: 38.1665 - val_accuracy: 0.3678\n",
            "Epoch 14/30\n",
            "11/11 [==============================] - 0s 5ms/step - loss: 47.6500 - accuracy: 0.4000 - val_loss: 27.3535 - val_accuracy: 0.4598\n",
            "Epoch 15/30\n",
            "11/11 [==============================] - 0s 4ms/step - loss: 45.2632 - accuracy: 0.4708 - val_loss: 65.9786 - val_accuracy: 0.3563\n",
            "Epoch 16/30\n",
            "11/11 [==============================] - 0s 6ms/step - loss: 57.6799 - accuracy: 0.3723 - val_loss: 48.5069 - val_accuracy: 0.4253\n",
            "Epoch 17/30\n",
            "11/11 [==============================] - 0s 4ms/step - loss: 69.7210 - accuracy: 0.3415 - val_loss: 74.4253 - val_accuracy: 0.3793\n",
            "Epoch 18/30\n",
            "11/11 [==============================] - 0s 5ms/step - loss: 70.1478 - accuracy: 0.4215 - val_loss: 84.3617 - val_accuracy: 0.4023\n",
            "Epoch 19/30\n",
            "11/11 [==============================] - 0s 6ms/step - loss: 67.3372 - accuracy: 0.3969 - val_loss: 31.0741 - val_accuracy: 0.4023\n",
            "Epoch 20/30\n",
            "11/11 [==============================] - 0s 6ms/step - loss: 47.6898 - accuracy: 0.4646 - val_loss: 110.3598 - val_accuracy: 0.3793\n",
            "Epoch 21/30\n",
            "11/11 [==============================] - 0s 5ms/step - loss: 76.2178 - accuracy: 0.3631 - val_loss: 84.5918 - val_accuracy: 0.3793\n",
            "Epoch 22/30\n",
            "11/11 [==============================] - 0s 7ms/step - loss: 46.4187 - accuracy: 0.4185 - val_loss: 35.2157 - val_accuracy: 0.4253\n",
            "Epoch 23/30\n",
            "11/11 [==============================] - 0s 6ms/step - loss: 45.7794 - accuracy: 0.4523 - val_loss: 55.3272 - val_accuracy: 0.3908\n",
            "Epoch 24/30\n",
            "11/11 [==============================] - 0s 7ms/step - loss: 74.6491 - accuracy: 0.4000 - val_loss: 108.7708 - val_accuracy: 0.3793\n",
            "Epoch 25/30\n",
            "11/11 [==============================] - 0s 5ms/step - loss: 71.0068 - accuracy: 0.3785 - val_loss: 33.4028 - val_accuracy: 0.4138\n",
            "Epoch 26/30\n",
            "11/11 [==============================] - 0s 4ms/step - loss: 54.0314 - accuracy: 0.4585 - val_loss: 58.2778 - val_accuracy: 0.3218\n",
            "Epoch 27/30\n",
            "11/11 [==============================] - 0s 7ms/step - loss: 40.5391 - accuracy: 0.4062 - val_loss: 76.1221 - val_accuracy: 0.3908\n",
            "Epoch 28/30\n",
            "11/11 [==============================] - 0s 4ms/step - loss: 69.8190 - accuracy: 0.4062 - val_loss: 40.4463 - val_accuracy: 0.4368\n",
            "Epoch 29/30\n",
            "11/11 [==============================] - 0s 5ms/step - loss: 34.2673 - accuracy: 0.4431 - val_loss: 29.5692 - val_accuracy: 0.3908\n",
            "Epoch 30/30\n",
            "11/11 [==============================] - 0s 5ms/step - loss: 45.6604 - accuracy: 0.4554 - val_loss: 11.9543 - val_accuracy: 0.3218\n",
            "\n",
            "\n",
            "\n",
            "\n",
            "Running 100_LR:0.0003_REG:0.03_EPOCH:30 experiment\n",
            "Epoch 1/30\n",
            "11/11 [==============================] - 1s 21ms/step - loss: 6767.6587 - accuracy: 0.0492 - val_loss: 6263.1494 - val_accuracy: 0.0575\n",
            "Epoch 2/30\n",
            "11/11 [==============================] - 0s 6ms/step - loss: 5616.2378 - accuracy: 0.0492 - val_loss: 5116.7168 - val_accuracy: 0.0575\n",
            "Epoch 3/30\n",
            "11/11 [==============================] - 0s 6ms/step - loss: 4478.9390 - accuracy: 0.0492 - val_loss: 3991.6926 - val_accuracy: 0.0575\n",
            "Epoch 4/30\n",
            "11/11 [==============================] - 0s 6ms/step - loss: 3365.2212 - accuracy: 0.0492 - val_loss: 2895.4998 - val_accuracy: 0.0575\n",
            "Epoch 5/30\n",
            "11/11 [==============================] - 0s 4ms/step - loss: 2342.5513 - accuracy: 0.1046 - val_loss: 1936.8589 - val_accuracy: 0.2874\n",
            "Epoch 6/30\n",
            "11/11 [==============================] - 0s 5ms/step - loss: 1716.4427 - accuracy: 0.3354 - val_loss: 1546.9829 - val_accuracy: 0.3793\n",
            "Epoch 7/30\n",
            "11/11 [==============================] - 0s 5ms/step - loss: 1235.2455 - accuracy: 0.3354 - val_loss: 1005.0049 - val_accuracy: 0.2989\n",
            "Epoch 8/30\n",
            "11/11 [==============================] - 0s 5ms/step - loss: 809.8914 - accuracy: 0.2246 - val_loss: 578.8579 - val_accuracy: 0.3448\n",
            "Epoch 9/30\n",
            "11/11 [==============================] - 0s 6ms/step - loss: 502.3635 - accuracy: 0.2738 - val_loss: 334.0995 - val_accuracy: 0.4138\n",
            "Epoch 10/30\n",
            "11/11 [==============================] - 0s 7ms/step - loss: 293.4174 - accuracy: 0.3292 - val_loss: 114.6388 - val_accuracy: 0.3448\n",
            "Epoch 11/30\n",
            "11/11 [==============================] - 0s 6ms/step - loss: 229.9913 - accuracy: 0.3015 - val_loss: 91.4277 - val_accuracy: 0.3448\n",
            "Epoch 12/30\n",
            "11/11 [==============================] - 0s 7ms/step - loss: 200.6878 - accuracy: 0.3323 - val_loss: 102.9331 - val_accuracy: 0.4023\n",
            "Epoch 13/30\n",
            "11/11 [==============================] - 0s 6ms/step - loss: 179.7519 - accuracy: 0.3323 - val_loss: 84.2733 - val_accuracy: 0.4023\n",
            "Epoch 14/30\n",
            "11/11 [==============================] - 0s 6ms/step - loss: 154.3358 - accuracy: 0.3262 - val_loss: 69.5748 - val_accuracy: 0.3678\n",
            "Epoch 15/30\n",
            "11/11 [==============================] - 0s 7ms/step - loss: 127.5605 - accuracy: 0.3600 - val_loss: 70.0128 - val_accuracy: 0.3448\n",
            "Epoch 16/30\n",
            "11/11 [==============================] - 0s 5ms/step - loss: 108.8366 - accuracy: 0.3200 - val_loss: 62.0299 - val_accuracy: 0.2759\n",
            "Epoch 17/30\n",
            "11/11 [==============================] - 0s 6ms/step - loss: 94.6487 - accuracy: 0.3077 - val_loss: 60.6612 - val_accuracy: 0.3908\n",
            "Epoch 18/30\n",
            "11/11 [==============================] - 0s 6ms/step - loss: 80.9437 - accuracy: 0.3169 - val_loss: 56.0454 - val_accuracy: 0.3448\n",
            "Epoch 19/30\n",
            "11/11 [==============================] - 0s 6ms/step - loss: 76.3558 - accuracy: 0.3262 - val_loss: 42.1724 - val_accuracy: 0.2989\n",
            "Epoch 20/30\n",
            "11/11 [==============================] - 0s 6ms/step - loss: 62.6678 - accuracy: 0.3754 - val_loss: 52.5198 - val_accuracy: 0.4023\n",
            "Epoch 21/30\n",
            "11/11 [==============================] - 0s 5ms/step - loss: 57.9226 - accuracy: 0.3662 - val_loss: 35.5645 - val_accuracy: 0.3333\n",
            "Epoch 22/30\n",
            "11/11 [==============================] - 0s 6ms/step - loss: 50.5038 - accuracy: 0.3815 - val_loss: 39.1202 - val_accuracy: 0.2989\n",
            "Epoch 23/30\n",
            "11/11 [==============================] - 0s 6ms/step - loss: 49.4176 - accuracy: 0.3477 - val_loss: 36.4148 - val_accuracy: 0.3448\n",
            "Epoch 24/30\n",
            "11/11 [==============================] - 0s 6ms/step - loss: 49.0425 - accuracy: 0.4092 - val_loss: 37.1965 - val_accuracy: 0.3333\n",
            "Epoch 25/30\n",
            "11/11 [==============================] - 0s 6ms/step - loss: 46.8947 - accuracy: 0.3938 - val_loss: 31.2792 - val_accuracy: 0.2759\n",
            "Epoch 26/30\n",
            "11/11 [==============================] - 0s 7ms/step - loss: 44.0151 - accuracy: 0.3938 - val_loss: 34.5717 - val_accuracy: 0.3563\n",
            "Epoch 27/30\n",
            "11/11 [==============================] - 0s 6ms/step - loss: 42.6893 - accuracy: 0.4154 - val_loss: 29.3804 - val_accuracy: 0.3333\n",
            "Epoch 28/30\n",
            "11/11 [==============================] - 0s 5ms/step - loss: 41.1510 - accuracy: 0.3969 - val_loss: 35.6164 - val_accuracy: 0.3793\n",
            "Epoch 29/30\n",
            "11/11 [==============================] - 0s 6ms/step - loss: 40.2255 - accuracy: 0.4123 - val_loss: 37.8008 - val_accuracy: 0.3678\n",
            "Epoch 30/30\n",
            "11/11 [==============================] - 0s 6ms/step - loss: 39.7235 - accuracy: 0.3785 - val_loss: 26.9381 - val_accuracy: 0.3563\n",
            "\n",
            "\n",
            "\n",
            "\n",
            "Running 100_LR:0.001_REG:0.03_EPOCH:30 experiment\n",
            "Epoch 1/30\n",
            "11/11 [==============================] - 1s 20ms/step - loss: 1727.9042 - accuracy: 0.3446 - val_loss: 466.4117 - val_accuracy: 0.3448\n",
            "Epoch 2/30\n",
            "11/11 [==============================] - 0s 6ms/step - loss: 360.1957 - accuracy: 0.3508 - val_loss: 336.3458 - val_accuracy: 0.2069\n",
            "Epoch 3/30\n",
            "11/11 [==============================] - 0s 6ms/step - loss: 209.2461 - accuracy: 0.3569 - val_loss: 175.3699 - val_accuracy: 0.3908\n",
            "Epoch 4/30\n",
            "11/11 [==============================] - 0s 6ms/step - loss: 124.4605 - accuracy: 0.4338 - val_loss: 105.3470 - val_accuracy: 0.3678\n",
            "Epoch 5/30\n",
            "11/11 [==============================] - 0s 4ms/step - loss: 104.4685 - accuracy: 0.4092 - val_loss: 74.3310 - val_accuracy: 0.4483\n",
            "Epoch 6/30\n",
            "11/11 [==============================] - 0s 4ms/step - loss: 77.9433 - accuracy: 0.4062 - val_loss: 58.9987 - val_accuracy: 0.4828\n",
            "Epoch 7/30\n",
            "11/11 [==============================] - 0s 5ms/step - loss: 67.4936 - accuracy: 0.4462 - val_loss: 42.2556 - val_accuracy: 0.3218\n",
            "Epoch 8/30\n",
            "11/11 [==============================] - 0s 7ms/step - loss: 54.1919 - accuracy: 0.3969 - val_loss: 45.0638 - val_accuracy: 0.4023\n",
            "Epoch 9/30\n",
            "11/11 [==============================] - 0s 6ms/step - loss: 56.4090 - accuracy: 0.3969 - val_loss: 45.5265 - val_accuracy: 0.4828\n",
            "Epoch 10/30\n",
            "11/11 [==============================] - 0s 5ms/step - loss: 40.2639 - accuracy: 0.4462 - val_loss: 44.4585 - val_accuracy: 0.4368\n",
            "Epoch 11/30\n",
            "11/11 [==============================] - 0s 5ms/step - loss: 46.0600 - accuracy: 0.4185 - val_loss: 32.6717 - val_accuracy: 0.3678\n",
            "Epoch 12/30\n",
            "11/11 [==============================] - 0s 6ms/step - loss: 31.0700 - accuracy: 0.4615 - val_loss: 42.6554 - val_accuracy: 0.2299\n",
            "Epoch 13/30\n",
            "11/11 [==============================] - 0s 7ms/step - loss: 34.8072 - accuracy: 0.4123 - val_loss: 21.2082 - val_accuracy: 0.3793\n",
            "Epoch 14/30\n",
            "11/11 [==============================] - 0s 4ms/step - loss: 36.8014 - accuracy: 0.3785 - val_loss: 45.5837 - val_accuracy: 0.1609\n",
            "Epoch 15/30\n",
            "11/11 [==============================] - 0s 6ms/step - loss: 34.9377 - accuracy: 0.3662 - val_loss: 36.1598 - val_accuracy: 0.4023\n",
            "Epoch 16/30\n",
            "11/11 [==============================] - 0s 5ms/step - loss: 33.8113 - accuracy: 0.4308 - val_loss: 35.7482 - val_accuracy: 0.3678\n",
            "Epoch 17/30\n",
            "11/11 [==============================] - 0s 4ms/step - loss: 32.7931 - accuracy: 0.4492 - val_loss: 36.7094 - val_accuracy: 0.1494\n",
            "Epoch 18/30\n",
            "11/11 [==============================] - 0s 5ms/step - loss: 37.1872 - accuracy: 0.4246 - val_loss: 24.3390 - val_accuracy: 0.3678\n",
            "Epoch 19/30\n",
            "11/11 [==============================] - 0s 7ms/step - loss: 17.9529 - accuracy: 0.4738 - val_loss: 32.0746 - val_accuracy: 0.3793\n",
            "Epoch 20/30\n",
            "11/11 [==============================] - 0s 4ms/step - loss: 17.7057 - accuracy: 0.4646 - val_loss: 32.7312 - val_accuracy: 0.1149\n",
            "Epoch 21/30\n",
            "11/11 [==============================] - 0s 4ms/step - loss: 28.2833 - accuracy: 0.3938 - val_loss: 17.1905 - val_accuracy: 0.4138\n",
            "Epoch 22/30\n",
            "11/11 [==============================] - 0s 6ms/step - loss: 23.9779 - accuracy: 0.4400 - val_loss: 21.3220 - val_accuracy: 0.4023\n",
            "Epoch 23/30\n",
            "11/11 [==============================] - 0s 6ms/step - loss: 22.7522 - accuracy: 0.3815 - val_loss: 51.5433 - val_accuracy: 0.2184\n",
            "Epoch 24/30\n",
            "11/11 [==============================] - 0s 5ms/step - loss: 24.7132 - accuracy: 0.4154 - val_loss: 58.4039 - val_accuracy: 0.3448\n",
            "Epoch 25/30\n",
            "11/11 [==============================] - 0s 5ms/step - loss: 43.0120 - accuracy: 0.4031 - val_loss: 29.6458 - val_accuracy: 0.4483\n",
            "Epoch 26/30\n",
            "11/11 [==============================] - 0s 7ms/step - loss: 38.9134 - accuracy: 0.4000 - val_loss: 34.9153 - val_accuracy: 0.4713\n",
            "Epoch 27/30\n",
            "11/11 [==============================] - 0s 7ms/step - loss: 28.9569 - accuracy: 0.4062 - val_loss: 17.9795 - val_accuracy: 0.3333\n",
            "Epoch 28/30\n",
            "11/11 [==============================] - 0s 5ms/step - loss: 20.7912 - accuracy: 0.4369 - val_loss: 29.9772 - val_accuracy: 0.2299\n",
            "Epoch 29/30\n",
            "11/11 [==============================] - 0s 6ms/step - loss: 17.1018 - accuracy: 0.3877 - val_loss: 33.4390 - val_accuracy: 0.2184\n",
            "Epoch 30/30\n",
            "11/11 [==============================] - 0s 5ms/step - loss: 27.1372 - accuracy: 0.4185 - val_loss: 14.0739 - val_accuracy: 0.3793\n",
            "\n",
            "\n",
            "\n",
            "\n",
            "Running 100_LR:0.003_REG:0.03_EPOCH:30 experiment\n",
            "Epoch 1/30\n",
            "11/11 [==============================] - 1s 22ms/step - loss: 1331.0316 - accuracy: 0.2585 - val_loss: 737.1050 - val_accuracy: 0.3793\n",
            "Epoch 2/30\n",
            "11/11 [==============================] - 0s 6ms/step - loss: 549.2683 - accuracy: 0.3292 - val_loss: 445.1623 - val_accuracy: 0.3448\n",
            "Epoch 3/30\n",
            "11/11 [==============================] - 0s 6ms/step - loss: 259.9604 - accuracy: 0.3446 - val_loss: 329.2827 - val_accuracy: 0.3563\n",
            "Epoch 4/30\n",
            "11/11 [==============================] - 0s 6ms/step - loss: 196.1270 - accuracy: 0.3723 - val_loss: 57.6343 - val_accuracy: 0.4713\n",
            "Epoch 5/30\n",
            "11/11 [==============================] - 0s 6ms/step - loss: 96.4898 - accuracy: 0.4369 - val_loss: 81.4679 - val_accuracy: 0.4713\n",
            "Epoch 6/30\n",
            "11/11 [==============================] - 0s 5ms/step - loss: 97.6526 - accuracy: 0.4400 - val_loss: 56.9894 - val_accuracy: 0.4023\n",
            "Epoch 7/30\n",
            "11/11 [==============================] - 0s 5ms/step - loss: 62.2368 - accuracy: 0.4123 - val_loss: 47.8060 - val_accuracy: 0.5057\n",
            "Epoch 8/30\n",
            "11/11 [==============================] - 0s 5ms/step - loss: 54.8418 - accuracy: 0.3569 - val_loss: 76.4989 - val_accuracy: 0.3793\n",
            "Epoch 9/30\n",
            "11/11 [==============================] - 0s 7ms/step - loss: 55.0399 - accuracy: 0.4277 - val_loss: 31.4969 - val_accuracy: 0.4138\n",
            "Epoch 10/30\n",
            "11/11 [==============================] - 0s 7ms/step - loss: 83.8261 - accuracy: 0.4123 - val_loss: 74.3604 - val_accuracy: 0.3218\n",
            "Epoch 11/30\n",
            "11/11 [==============================] - 0s 6ms/step - loss: 63.5155 - accuracy: 0.3600 - val_loss: 120.8591 - val_accuracy: 0.2874\n",
            "Epoch 12/30\n",
            "11/11 [==============================] - 0s 7ms/step - loss: 108.4629 - accuracy: 0.3692 - val_loss: 139.2590 - val_accuracy: 0.0575\n",
            "Epoch 13/30\n",
            "11/11 [==============================] - 0s 6ms/step - loss: 89.9367 - accuracy: 0.3723 - val_loss: 91.3737 - val_accuracy: 0.3793\n",
            "Epoch 14/30\n",
            "11/11 [==============================] - 0s 7ms/step - loss: 76.7801 - accuracy: 0.3969 - val_loss: 62.1356 - val_accuracy: 0.3563\n",
            "Epoch 15/30\n",
            "11/11 [==============================] - 0s 4ms/step - loss: 44.3463 - accuracy: 0.4554 - val_loss: 61.9300 - val_accuracy: 0.4138\n",
            "Epoch 16/30\n",
            "11/11 [==============================] - 0s 7ms/step - loss: 79.5230 - accuracy: 0.3508 - val_loss: 52.9497 - val_accuracy: 0.4138\n",
            "Epoch 17/30\n",
            "11/11 [==============================] - 0s 5ms/step - loss: 54.9941 - accuracy: 0.3785 - val_loss: 110.3937 - val_accuracy: 0.0575\n",
            "Epoch 18/30\n",
            "11/11 [==============================] - 0s 6ms/step - loss: 67.2132 - accuracy: 0.3938 - val_loss: 83.0719 - val_accuracy: 0.3793\n",
            "Epoch 19/30\n",
            "11/11 [==============================] - 0s 6ms/step - loss: 71.4972 - accuracy: 0.4677 - val_loss: 82.2232 - val_accuracy: 0.3563\n",
            "Epoch 20/30\n",
            "11/11 [==============================] - 0s 5ms/step - loss: 53.4575 - accuracy: 0.4092 - val_loss: 79.8352 - val_accuracy: 0.2184\n",
            "Epoch 21/30\n",
            "11/11 [==============================] - 0s 5ms/step - loss: 49.0210 - accuracy: 0.4031 - val_loss: 140.4492 - val_accuracy: 0.2184\n",
            "Epoch 22/30\n",
            "11/11 [==============================] - 0s 5ms/step - loss: 67.2864 - accuracy: 0.4062 - val_loss: 57.8887 - val_accuracy: 0.2989\n",
            "Epoch 23/30\n",
            "11/11 [==============================] - 0s 6ms/step - loss: 108.8747 - accuracy: 0.3877 - val_loss: 130.2740 - val_accuracy: 0.2874\n",
            "Epoch 24/30\n",
            "11/11 [==============================] - 0s 7ms/step - loss: 83.4503 - accuracy: 0.4154 - val_loss: 44.6546 - val_accuracy: 0.4713\n",
            "Epoch 25/30\n",
            "11/11 [==============================] - 0s 7ms/step - loss: 49.2969 - accuracy: 0.4400 - val_loss: 23.0995 - val_accuracy: 0.3103\n",
            "Epoch 26/30\n",
            "11/11 [==============================] - 0s 5ms/step - loss: 38.3081 - accuracy: 0.4308 - val_loss: 72.8692 - val_accuracy: 0.3448\n",
            "Epoch 27/30\n",
            "11/11 [==============================] - 0s 4ms/step - loss: 55.0416 - accuracy: 0.3846 - val_loss: 104.1926 - val_accuracy: 0.4253\n",
            "Epoch 28/30\n",
            "11/11 [==============================] - 0s 5ms/step - loss: 59.1594 - accuracy: 0.4769 - val_loss: 116.0413 - val_accuracy: 0.2184\n",
            "Epoch 29/30\n",
            "11/11 [==============================] - 0s 5ms/step - loss: 91.3383 - accuracy: 0.3477 - val_loss: 94.4071 - val_accuracy: 0.3793\n",
            "Epoch 30/30\n",
            "11/11 [==============================] - 0s 7ms/step - loss: 76.8702 - accuracy: 0.4308 - val_loss: 87.2537 - val_accuracy: 0.2184\n",
            "\n",
            "\n",
            "\n",
            "\n",
            "Running 100_LR:0.0003_REG:0.1_EPOCH:30 experiment\n",
            "Epoch 1/30\n",
            "11/11 [==============================] - 1s 24ms/step - loss: 1627.1053 - accuracy: 0.2892 - val_loss: 1346.5327 - val_accuracy: 0.3218\n",
            "Epoch 2/30\n",
            "11/11 [==============================] - 0s 5ms/step - loss: 1283.6400 - accuracy: 0.3231 - val_loss: 997.6582 - val_accuracy: 0.2989\n",
            "Epoch 3/30\n",
            "11/11 [==============================] - 0s 5ms/step - loss: 946.9515 - accuracy: 0.2923 - val_loss: 685.6251 - val_accuracy: 0.3448\n",
            "Epoch 4/30\n",
            "11/11 [==============================] - 0s 7ms/step - loss: 624.1730 - accuracy: 0.2831 - val_loss: 364.6789 - val_accuracy: 0.3448\n",
            "Epoch 5/30\n",
            "11/11 [==============================] - 0s 5ms/step - loss: 289.3715 - accuracy: 0.2800 - val_loss: 94.1988 - val_accuracy: 0.2299\n",
            "Epoch 6/30\n",
            "11/11 [==============================] - 0s 7ms/step - loss: 200.6374 - accuracy: 0.2769 - val_loss: 92.8167 - val_accuracy: 0.2874\n",
            "Epoch 7/30\n",
            "11/11 [==============================] - 0s 7ms/step - loss: 166.3862 - accuracy: 0.2831 - val_loss: 85.9663 - val_accuracy: 0.2874\n",
            "Epoch 8/30\n",
            "11/11 [==============================] - 0s 6ms/step - loss: 132.2535 - accuracy: 0.2523 - val_loss: 79.1743 - val_accuracy: 0.3448\n",
            "Epoch 9/30\n",
            "11/11 [==============================] - 0s 6ms/step - loss: 112.0880 - accuracy: 0.2708 - val_loss: 45.3576 - val_accuracy: 0.3563\n",
            "Epoch 10/30\n",
            "11/11 [==============================] - 0s 7ms/step - loss: 96.9575 - accuracy: 0.3200 - val_loss: 54.8364 - val_accuracy: 0.3908\n",
            "Epoch 11/30\n",
            "11/11 [==============================] - 0s 6ms/step - loss: 87.4928 - accuracy: 0.3569 - val_loss: 50.5977 - val_accuracy: 0.4828\n",
            "Epoch 12/30\n",
            "11/11 [==============================] - 0s 7ms/step - loss: 80.2422 - accuracy: 0.3692 - val_loss: 41.3491 - val_accuracy: 0.4023\n",
            "Epoch 13/30\n",
            "11/11 [==============================] - 0s 7ms/step - loss: 71.9893 - accuracy: 0.3785 - val_loss: 42.4320 - val_accuracy: 0.4598\n",
            "Epoch 14/30\n",
            "11/11 [==============================] - 0s 6ms/step - loss: 65.4586 - accuracy: 0.3815 - val_loss: 34.0865 - val_accuracy: 0.4138\n",
            "Epoch 15/30\n",
            "11/11 [==============================] - 0s 7ms/step - loss: 58.7118 - accuracy: 0.3231 - val_loss: 28.1851 - val_accuracy: 0.4368\n",
            "Epoch 16/30\n",
            "11/11 [==============================] - 0s 7ms/step - loss: 53.6831 - accuracy: 0.3323 - val_loss: 33.3652 - val_accuracy: 0.4253\n",
            "Epoch 17/30\n",
            "11/11 [==============================] - 0s 7ms/step - loss: 45.9846 - accuracy: 0.3569 - val_loss: 26.0996 - val_accuracy: 0.4138\n",
            "Epoch 18/30\n",
            "11/11 [==============================] - 0s 6ms/step - loss: 41.4904 - accuracy: 0.3785 - val_loss: 34.2006 - val_accuracy: 0.3448\n",
            "Epoch 19/30\n",
            "11/11 [==============================] - 0s 7ms/step - loss: 41.1733 - accuracy: 0.4215 - val_loss: 34.0151 - val_accuracy: 0.3333\n",
            "Epoch 20/30\n",
            "11/11 [==============================] - 0s 6ms/step - loss: 37.6334 - accuracy: 0.3754 - val_loss: 27.7197 - val_accuracy: 0.4598\n",
            "Epoch 21/30\n",
            "11/11 [==============================] - 0s 5ms/step - loss: 36.4696 - accuracy: 0.3692 - val_loss: 26.1670 - val_accuracy: 0.4368\n",
            "Epoch 22/30\n",
            "11/11 [==============================] - 0s 7ms/step - loss: 30.8296 - accuracy: 0.4246 - val_loss: 25.8528 - val_accuracy: 0.3218\n",
            "Epoch 23/30\n",
            "11/11 [==============================] - 0s 6ms/step - loss: 35.9185 - accuracy: 0.4185 - val_loss: 28.7269 - val_accuracy: 0.3678\n",
            "Epoch 24/30\n",
            "11/11 [==============================] - 0s 5ms/step - loss: 30.1281 - accuracy: 0.3969 - val_loss: 22.0000 - val_accuracy: 0.4253\n",
            "Epoch 25/30\n",
            "11/11 [==============================] - 0s 7ms/step - loss: 27.2288 - accuracy: 0.4554 - val_loss: 23.2352 - val_accuracy: 0.3103\n",
            "Epoch 26/30\n",
            "11/11 [==============================] - 0s 5ms/step - loss: 26.9729 - accuracy: 0.4123 - val_loss: 26.5547 - val_accuracy: 0.3103\n",
            "Epoch 27/30\n",
            "11/11 [==============================] - 0s 6ms/step - loss: 28.2529 - accuracy: 0.4154 - val_loss: 24.9663 - val_accuracy: 0.3333\n",
            "Epoch 28/30\n",
            "11/11 [==============================] - 0s 4ms/step - loss: 27.3446 - accuracy: 0.4338 - val_loss: 34.4625 - val_accuracy: 0.3908\n",
            "Epoch 29/30\n",
            "11/11 [==============================] - 0s 5ms/step - loss: 27.4634 - accuracy: 0.4462 - val_loss: 22.6191 - val_accuracy: 0.4023\n",
            "Epoch 30/30\n",
            "11/11 [==============================] - 0s 5ms/step - loss: 23.2631 - accuracy: 0.4800 - val_loss: 21.1702 - val_accuracy: 0.4368\n",
            "\n",
            "\n",
            "\n",
            "\n",
            "Running 100_LR:0.001_REG:0.1_EPOCH:30 experiment\n",
            "Epoch 1/30\n",
            "11/11 [==============================] - 1s 24ms/step - loss: 1524.7396 - accuracy: 0.3569 - val_loss: 698.5168 - val_accuracy: 0.2184\n",
            "Epoch 2/30\n",
            "11/11 [==============================] - 0s 5ms/step - loss: 428.5815 - accuracy: 0.3046 - val_loss: 237.3377 - val_accuracy: 0.3218\n",
            "Epoch 3/30\n",
            "11/11 [==============================] - 0s 5ms/step - loss: 357.7576 - accuracy: 0.3538 - val_loss: 168.9709 - val_accuracy: 0.3793\n",
            "Epoch 4/30\n",
            "11/11 [==============================] - 0s 7ms/step - loss: 200.0761 - accuracy: 0.3723 - val_loss: 99.6601 - val_accuracy: 0.3563\n",
            "Epoch 5/30\n",
            "11/11 [==============================] - 0s 6ms/step - loss: 141.7618 - accuracy: 0.3785 - val_loss: 92.6766 - val_accuracy: 0.4023\n",
            "Epoch 6/30\n",
            "11/11 [==============================] - 0s 7ms/step - loss: 87.8061 - accuracy: 0.4277 - val_loss: 84.5746 - val_accuracy: 0.2874\n",
            "Epoch 7/30\n",
            "11/11 [==============================] - 0s 5ms/step - loss: 78.1519 - accuracy: 0.4523 - val_loss: 59.5923 - val_accuracy: 0.3103\n",
            "Epoch 8/30\n",
            "11/11 [==============================] - 0s 6ms/step - loss: 56.8397 - accuracy: 0.4585 - val_loss: 34.3678 - val_accuracy: 0.3678\n",
            "Epoch 9/30\n",
            "11/11 [==============================] - 0s 6ms/step - loss: 46.3710 - accuracy: 0.4308 - val_loss: 55.6599 - val_accuracy: 0.3448\n",
            "Epoch 10/30\n",
            "11/11 [==============================] - 0s 6ms/step - loss: 57.6976 - accuracy: 0.3692 - val_loss: 30.6598 - val_accuracy: 0.3678\n",
            "Epoch 11/30\n",
            "11/11 [==============================] - 0s 7ms/step - loss: 38.8608 - accuracy: 0.4369 - val_loss: 30.1291 - val_accuracy: 0.2529\n",
            "Epoch 12/30\n",
            "11/11 [==============================] - 0s 6ms/step - loss: 33.2945 - accuracy: 0.4338 - val_loss: 37.1925 - val_accuracy: 0.3563\n",
            "Epoch 13/30\n",
            "11/11 [==============================] - 0s 6ms/step - loss: 32.1250 - accuracy: 0.4462 - val_loss: 15.5790 - val_accuracy: 0.3218\n",
            "Epoch 14/30\n",
            "11/11 [==============================] - 0s 5ms/step - loss: 31.7699 - accuracy: 0.3385 - val_loss: 42.2025 - val_accuracy: 0.3448\n",
            "Epoch 15/30\n",
            "11/11 [==============================] - 0s 4ms/step - loss: 32.4702 - accuracy: 0.4554 - val_loss: 32.4372 - val_accuracy: 0.3448\n",
            "Epoch 16/30\n",
            "11/11 [==============================] - 0s 6ms/step - loss: 23.2207 - accuracy: 0.4185 - val_loss: 17.4937 - val_accuracy: 0.2874\n",
            "Epoch 17/30\n",
            "11/11 [==============================] - 0s 7ms/step - loss: 26.1216 - accuracy: 0.3969 - val_loss: 24.6520 - val_accuracy: 0.4138\n",
            "Epoch 18/30\n",
            "11/11 [==============================] - 0s 5ms/step - loss: 31.2082 - accuracy: 0.4154 - val_loss: 16.1417 - val_accuracy: 0.4138\n",
            "Epoch 19/30\n",
            "11/11 [==============================] - 0s 7ms/step - loss: 22.8064 - accuracy: 0.4338 - val_loss: 13.1166 - val_accuracy: 0.3793\n",
            "Epoch 20/30\n",
            "11/11 [==============================] - 0s 7ms/step - loss: 29.7565 - accuracy: 0.3908 - val_loss: 44.5175 - val_accuracy: 0.2184\n",
            "Epoch 21/30\n",
            "11/11 [==============================] - 0s 5ms/step - loss: 28.2153 - accuracy: 0.4308 - val_loss: 21.1150 - val_accuracy: 0.3908\n",
            "Epoch 22/30\n",
            "11/11 [==============================] - 0s 5ms/step - loss: 32.1768 - accuracy: 0.4738 - val_loss: 25.5003 - val_accuracy: 0.2989\n",
            "Epoch 23/30\n",
            "11/11 [==============================] - 0s 6ms/step - loss: 22.3785 - accuracy: 0.4154 - val_loss: 30.7522 - val_accuracy: 0.2184\n",
            "Epoch 24/30\n",
            "11/11 [==============================] - 0s 6ms/step - loss: 24.3371 - accuracy: 0.4431 - val_loss: 52.8664 - val_accuracy: 0.2989\n",
            "Epoch 25/30\n",
            "11/11 [==============================] - 0s 6ms/step - loss: 39.4142 - accuracy: 0.3785 - val_loss: 40.1273 - val_accuracy: 0.2184\n",
            "Epoch 26/30\n",
            "11/11 [==============================] - 0s 6ms/step - loss: 29.2105 - accuracy: 0.4338 - val_loss: 56.2592 - val_accuracy: 0.2184\n",
            "Epoch 27/30\n",
            "11/11 [==============================] - 0s 6ms/step - loss: 35.6998 - accuracy: 0.4123 - val_loss: 37.1869 - val_accuracy: 0.2414\n",
            "Epoch 28/30\n",
            "11/11 [==============================] - 0s 5ms/step - loss: 32.3288 - accuracy: 0.4462 - val_loss: 17.7174 - val_accuracy: 0.4598\n",
            "Epoch 29/30\n",
            "11/11 [==============================] - 0s 5ms/step - loss: 31.9374 - accuracy: 0.3969 - val_loss: 50.8864 - val_accuracy: 0.3793\n",
            "Epoch 30/30\n",
            "11/11 [==============================] - 0s 5ms/step - loss: 29.6179 - accuracy: 0.3508 - val_loss: 21.1195 - val_accuracy: 0.3448\n",
            "\n",
            "\n",
            "\n",
            "\n",
            "Running 100_LR:0.003_REG:0.1_EPOCH:30 experiment\n",
            "Epoch 1/30\n",
            "11/11 [==============================] - 1s 22ms/step - loss: 1119.7986 - accuracy: 0.3354 - val_loss: 806.1263 - val_accuracy: 0.2184\n",
            "Epoch 2/30\n",
            "11/11 [==============================] - 0s 7ms/step - loss: 371.7587 - accuracy: 0.3354 - val_loss: 300.8683 - val_accuracy: 0.4253\n",
            "Epoch 3/30\n",
            "11/11 [==============================] - 0s 6ms/step - loss: 199.1558 - accuracy: 0.4092 - val_loss: 132.5016 - val_accuracy: 0.3678\n",
            "Epoch 4/30\n",
            "11/11 [==============================] - 0s 6ms/step - loss: 112.9205 - accuracy: 0.3877 - val_loss: 82.4830 - val_accuracy: 0.3333\n",
            "Epoch 5/30\n",
            "11/11 [==============================] - 0s 6ms/step - loss: 76.8027 - accuracy: 0.3354 - val_loss: 87.2126 - val_accuracy: 0.3563\n",
            "Epoch 6/30\n",
            "11/11 [==============================] - 0s 7ms/step - loss: 59.9570 - accuracy: 0.4185 - val_loss: 29.0486 - val_accuracy: 0.3908\n",
            "Epoch 7/30\n",
            "11/11 [==============================] - 0s 7ms/step - loss: 55.6625 - accuracy: 0.4000 - val_loss: 19.2929 - val_accuracy: 0.4713\n",
            "Epoch 8/30\n",
            "11/11 [==============================] - 0s 6ms/step - loss: 57.1089 - accuracy: 0.3631 - val_loss: 53.5303 - val_accuracy: 0.3563\n",
            "Epoch 9/30\n",
            "11/11 [==============================] - 0s 5ms/step - loss: 46.2492 - accuracy: 0.4092 - val_loss: 52.7796 - val_accuracy: 0.3563\n",
            "Epoch 10/30\n",
            "11/11 [==============================] - 0s 6ms/step - loss: 42.9608 - accuracy: 0.4523 - val_loss: 58.7350 - val_accuracy: 0.3448\n",
            "Epoch 11/30\n",
            "11/11 [==============================] - 0s 7ms/step - loss: 42.2684 - accuracy: 0.4031 - val_loss: 39.8123 - val_accuracy: 0.2874\n",
            "Epoch 12/30\n",
            "11/11 [==============================] - 0s 7ms/step - loss: 31.1654 - accuracy: 0.4800 - val_loss: 75.2345 - val_accuracy: 0.3793\n",
            "Epoch 13/30\n",
            "11/11 [==============================] - 0s 6ms/step - loss: 50.5959 - accuracy: 0.3908 - val_loss: 92.3332 - val_accuracy: 0.2414\n",
            "Epoch 14/30\n",
            "11/11 [==============================] - 0s 7ms/step - loss: 60.0587 - accuracy: 0.3754 - val_loss: 63.3634 - val_accuracy: 0.3793\n",
            "Epoch 15/30\n",
            "11/11 [==============================] - 0s 7ms/step - loss: 58.7440 - accuracy: 0.3969 - val_loss: 111.7054 - val_accuracy: 0.3448\n",
            "Epoch 16/30\n",
            "11/11 [==============================] - 0s 6ms/step - loss: 62.5074 - accuracy: 0.3969 - val_loss: 57.6126 - val_accuracy: 0.0575\n",
            "Epoch 17/30\n",
            "11/11 [==============================] - 0s 7ms/step - loss: 48.2028 - accuracy: 0.4062 - val_loss: 79.4047 - val_accuracy: 0.4368\n",
            "Epoch 18/30\n",
            "11/11 [==============================] - 0s 6ms/step - loss: 48.7991 - accuracy: 0.3815 - val_loss: 42.6149 - val_accuracy: 0.4598\n",
            "Epoch 19/30\n",
            "11/11 [==============================] - 0s 6ms/step - loss: 50.0827 - accuracy: 0.4369 - val_loss: 55.1780 - val_accuracy: 0.1839\n",
            "Epoch 20/30\n",
            "11/11 [==============================] - 0s 7ms/step - loss: 61.3035 - accuracy: 0.3938 - val_loss: 35.5278 - val_accuracy: 0.4598\n",
            "Epoch 21/30\n",
            "11/11 [==============================] - 0s 6ms/step - loss: 35.3344 - accuracy: 0.4246 - val_loss: 47.9388 - val_accuracy: 0.4023\n",
            "Epoch 22/30\n",
            "11/11 [==============================] - 0s 5ms/step - loss: 63.1777 - accuracy: 0.4185 - val_loss: 64.7341 - val_accuracy: 0.3793\n",
            "Epoch 23/30\n",
            "11/11 [==============================] - 0s 5ms/step - loss: 76.6372 - accuracy: 0.4185 - val_loss: 80.2609 - val_accuracy: 0.4023\n",
            "Epoch 24/30\n",
            "11/11 [==============================] - 0s 7ms/step - loss: 67.7442 - accuracy: 0.4400 - val_loss: 81.0008 - val_accuracy: 0.2069\n",
            "Epoch 25/30\n",
            "11/11 [==============================] - 0s 5ms/step - loss: 59.7630 - accuracy: 0.4215 - val_loss: 56.9735 - val_accuracy: 0.3793\n",
            "Epoch 26/30\n",
            "11/11 [==============================] - 0s 7ms/step - loss: 57.0909 - accuracy: 0.4185 - val_loss: 33.2273 - val_accuracy: 0.3678\n",
            "Epoch 27/30\n",
            "11/11 [==============================] - 0s 7ms/step - loss: 33.9794 - accuracy: 0.4615 - val_loss: 67.5870 - val_accuracy: 0.2184\n",
            "Epoch 28/30\n",
            "11/11 [==============================] - 0s 5ms/step - loss: 45.5114 - accuracy: 0.3846 - val_loss: 58.3605 - val_accuracy: 0.3793\n",
            "Epoch 29/30\n",
            "11/11 [==============================] - 0s 5ms/step - loss: 59.4314 - accuracy: 0.3785 - val_loss: 29.5499 - val_accuracy: 0.4483\n",
            "Epoch 30/30\n",
            "11/11 [==============================] - 0s 5ms/step - loss: 34.0929 - accuracy: 0.4677 - val_loss: 21.5725 - val_accuracy: 0.4713\n"
          ]
        }
      ]
    },
    {
      "cell_type": "code",
      "source": [
        ""
      ],
      "metadata": {
        "id": "2g63Y3SttRaM"
      },
      "execution_count": null,
      "outputs": []
    }
  ],
  "metadata": {
    "colab": {
      "collapsed_sections": [],
      "name": "FiestaLab_LabBench.ipynb",
      "provenance": []
    },
    "kernelspec": {
      "display_name": "Python 3",
      "name": "python3"
    },
    "language_info": {
      "name": "python"
    }
  },
  "nbformat": 4,
  "nbformat_minor": 0
}