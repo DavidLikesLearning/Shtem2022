{
  "cells": [
    {
      "cell_type": "code",
      "execution_count": null,
      "metadata": {
        "id": "Xr_aBm6gAvGk"
      },
      "outputs": [],
      "source": [
        "from google.colab import drive\n",
        "import numpy as np\n",
        "import pandas as pd\n",
        "import matplotlib.pyplot as plt\n",
        "import sklearn\n"
      ]
    },
    {
      "cell_type": "code",
      "source": [
        "mednan = np.load('cirrhosis_medNaN.npy')"
      ],
      "metadata": {
        "id": "6gDTD0uxzR-D"
      },
      "execution_count": null,
      "outputs": []
    },
    {
      "cell_type": "code",
      "source": [
        "mednan.shape"
      ],
      "metadata": {
        "colab": {
          "base_uri": "https://localhost:8080/"
        },
        "id": "CQ6KzbZX0QXB",
        "outputId": "055e1881-2633-4d50-9dfd-ae59bd85ff51"
      },
      "execution_count": null,
      "outputs": [
        {
          "output_type": "execute_result",
          "data": {
            "text/plain": [
              "(412, 33)"
            ]
          },
          "metadata": {},
          "execution_count": 4
        }
      ]
    },
    {
      "cell_type": "code",
      "execution_count": null,
      "metadata": {
        "id": "rlpoVpDbFw8E"
      },
      "outputs": [],
      "source": [
        " cleanCirr = np.load('cleanCirrhosis.npy')\n",
        " "
      ]
    },
    {
      "cell_type": "code",
      "execution_count": null,
      "metadata": {
        "id": "3RnXiALQRPpI",
        "colab": {
          "base_uri": "https://localhost:8080/"
        },
        "outputId": "8c902ad7-b5bf-46ec-a41e-877cfa523f30"
      },
      "outputs": [
        {
          "output_type": "execute_result",
          "data": {
            "text/plain": [
              "(276, 33)"
            ]
          },
          "metadata": {},
          "execution_count": 19
        }
      ],
      "source": [
        "cleanCirr.shape"
      ]
    },
    {
      "cell_type": "code",
      "source": [
        "onehot = np.load('onehot_cirrhosis_raw.npy')"
      ],
      "metadata": {
        "id": "IXl-M_j33Sxx"
      },
      "execution_count": null,
      "outputs": []
    },
    {
      "cell_type": "code",
      "source": [
        "badrows = np.isnan(onehot[:,-1]) #rows where the dependent variable is missing\n",
        "clean_stage = onehot[(badrows*-1 +1).astype(bool)]\n",
        "clean_stage.shape\n",
        "nanlocs = np.argwhere(np.isnan(clean_stage))"
      ],
      "metadata": {
        "id": "zgeTBA_y-o4T"
      },
      "execution_count": null,
      "outputs": []
    },
    {
      "cell_type": "code",
      "source": [
        "np.save('nanlocs.npy',nanlocs)"
      ],
      "metadata": {
        "id": "QbYLT9Qy-2sP"
      },
      "execution_count": null,
      "outputs": []
    },
    {
      "cell_type": "code",
      "source": [
        "allcols =  np.asarray(['ID',  'N_Days',  'Status_CL',  'Status_D',\n",
        "  'Status_C',  'Drug_nan',  'Drug_Placebo', 'Drug_D-penicillamine',\n",
        "  'Age',  'Sex_F',  'Sex_M',  'Ascites_nan',\n",
        "  'Ascites_Y',  'Ascites_N',  'Hepatomegaly_nan',  'Hepatomegaly_Y',\n",
        "  'Hepatomegaly_N',  'Spiders_nan',  'Spiders_Y',  'Spiders_N',\n",
        "  'Spiders_nan',  'Spiders_Y',  'Spiders_N',  'Bilirubin',\n",
        "  'Cholesterol',  'Albumin',  'Copper',  'Alk_Phos',\n",
        "  'SGOT',  'Tryglicerides',  'Platelets',  'Prothrombin', 'Stage'])"
      ],
      "metadata": {
        "id": "hkJR2eUrAPbc"
      },
      "execution_count": null,
      "outputs": []
    },
    {
      "cell_type": "code",
      "source": [
        "np.save('col_titles.npy',allcols)"
      ],
      "metadata": {
        "id": "idJHJAOcAee9"
      },
      "execution_count": null,
      "outputs": []
    },
    {
      "cell_type": "code",
      "source": [
        "catStages = np.zeros((mednan.shape[0],4))\n",
        "cats = set(mednan[:,-1])\n",
        "for i in range(mednan.shape[0]):\n",
        "  catStages[i,int(mednan[i,-1])-1] = 1"
      ],
      "metadata": {
        "id": "ScW_PCVYHYML"
      },
      "execution_count": null,
      "outputs": []
    },
    {
      "cell_type": "code",
      "source": [
        "catStages[:10,:],mednan[:10,-1]\n",
        "#all looks good"
      ],
      "metadata": {
        "colab": {
          "base_uri": "https://localhost:8080/"
        },
        "id": "jsi4w-DHnHVr",
        "outputId": "f5fa9889-770b-4cee-bac0-3409f29f0512"
      },
      "execution_count": null,
      "outputs": [
        {
          "output_type": "execute_result",
          "data": {
            "text/plain": [
              "(array([[0., 0., 0., 1.],\n",
              "        [0., 0., 1., 0.],\n",
              "        [0., 0., 0., 1.],\n",
              "        [0., 0., 0., 1.],\n",
              "        [0., 0., 1., 0.],\n",
              "        [0., 0., 1., 0.],\n",
              "        [0., 0., 1., 0.],\n",
              "        [0., 0., 1., 0.],\n",
              "        [0., 1., 0., 0.],\n",
              "        [0., 0., 0., 1.]]), array([4., 3., 4., 4., 3., 3., 3., 3., 2., 4.]))"
            ]
          },
          "metadata": {},
          "execution_count": 7
        }
      ]
    },
    {
      "cell_type": "code",
      "source": [
        "catCirrMedNan = np.concatenate([mednan[:,:-1],catStages],axis=1)"
      ],
      "metadata": {
        "id": "raf9JiDKngcD"
      },
      "execution_count": null,
      "outputs": []
    },
    {
      "cell_type": "code",
      "source": [
        "np.save('catCirrMedNan.npy',catCirrMedNan)\n",
        "data = np.load('catCirrMedNan.npy')\n",
        "#turns out, mednan is better for error analysis"
      ],
      "metadata": {
        "id": "g0FPQeyOn09n"
      },
      "execution_count": null,
      "outputs": []
    },
    {
      "cell_type": "code",
      "source": [
        "from sklearn.neural_network import MLPClassifier\n",
        "nn = MLPClassifier(hidden_layer_sizes=(100), activation='relu',\n",
        "                    alpha=0.0001, learning_rate_init=0.001, \n",
        "                   max_iter=200)\n",
        "nn=nn.fit(X=data[:,:-4],y=mednan[:,-1])\n",
        "score =(nn.score(data[:,:-4],mednan[:,-1]))\n",
        "preds = nn.predict(data[:,:-4])\n",
        "probs = nn.predict_proba(mednan[:,:-1])"
      ],
      "metadata": {
        "id": "QT07Imveo-xS"
      },
      "execution_count": null,
      "outputs": []
    },
    {
      "cell_type": "code",
      "source": [
        "preds,mednan[:,-1]"
      ],
      "metadata": {
        "colab": {
          "base_uri": "https://localhost:8080/"
        },
        "id": "qgGVgn--tFlS",
        "outputId": "75382c54-0c45-4fc6-8b71-e914b9c81334"
      },
      "execution_count": null,
      "outputs": [
        {
          "output_type": "execute_result",
          "data": {
            "text/plain": [
              "(array([4., 4., 4., 4., 4., 4., 4., 4., 4., 4., 4., 4., 3., 4., 4., 1., 4.,\n",
              "        4., 3., 4., 4., 4., 4., 4., 1., 4., 4., 4., 4., 1., 4., 4., 4., 3.,\n",
              "        4., 1., 4., 3., 3., 4., 4., 4., 4., 3., 3., 3., 3., 3., 4., 4., 4.,\n",
              "        4., 4., 3., 1., 2., 3., 4., 1., 2., 1., 4., 4., 4., 3., 3., 3., 1.,\n",
              "        4., 1., 3., 3., 1., 4., 4., 4., 4., 4., 3., 4., 4., 4., 4., 4., 4.,\n",
              "        4., 4., 3., 4., 3., 4., 4., 3., 4., 4., 3., 4., 3., 3., 4., 3., 4.,\n",
              "        4., 3., 3., 4., 1., 4., 4., 4., 3., 4., 4., 4., 3., 4., 4., 4., 4.,\n",
              "        3., 4., 4., 4., 4., 4., 4., 3., 4., 4., 3., 4., 3., 4., 3., 3., 4.,\n",
              "        4., 4., 4., 4., 3., 4., 4., 4., 4., 3., 4., 3., 4., 3., 4., 4., 1.,\n",
              "        4., 4., 4., 4., 3., 4., 4., 3., 4., 4., 4., 4., 3., 4., 4., 4., 4.,\n",
              "        4., 4., 3., 4., 4., 4., 4., 4., 4., 3., 4., 4., 4., 4., 4., 4., 4.,\n",
              "        4., 4., 4., 4., 4., 4., 3., 4., 4., 4., 3., 3., 3., 4., 4., 4., 4.,\n",
              "        4., 4., 4., 4., 4., 4., 4., 4., 4., 4., 3., 4., 4., 3., 4., 4., 4.,\n",
              "        4., 4., 3., 4., 4., 4., 4., 4., 1., 4., 4., 4., 3., 2., 3., 4., 4.,\n",
              "        4., 4., 4., 4., 4., 3., 4., 4., 4., 4., 4., 4., 4., 4., 4., 4., 4.,\n",
              "        3., 4., 4., 4., 4., 4., 4., 3., 4., 4., 4., 4., 4., 4., 4., 4., 4.,\n",
              "        4., 4., 4., 4., 4., 4., 4., 4., 4., 4., 4., 4., 4., 4., 4., 4., 4.,\n",
              "        4., 4., 4., 4., 4., 3., 3., 4., 4., 4., 4., 4., 4., 4., 4., 3., 4.,\n",
              "        3., 4., 4., 4., 4., 4., 4., 4., 4., 4., 4., 4., 1., 4., 1., 4., 1.,\n",
              "        4., 4., 4., 4., 4., 4., 4., 4., 4., 4., 4., 4., 3., 4., 1., 3., 4.,\n",
              "        4., 4., 4., 4., 4., 4., 4., 4., 4., 4., 4., 4., 3., 4., 4., 4., 4.,\n",
              "        4., 4., 4., 4., 4., 4., 4., 4., 3., 4., 4., 4., 4., 3., 4., 4., 3.,\n",
              "        4., 4., 4., 4., 4., 4., 4., 4., 4., 4., 4., 4., 4., 4., 3., 4., 4.,\n",
              "        4., 4., 4., 4., 4., 4., 4., 4., 4., 4., 4., 4., 4., 4., 4., 4., 4.,\n",
              "        4., 4., 4., 4.]),\n",
              " array([4., 3., 4., 4., 3., 3., 3., 3., 2., 4., 4., 4., 3., 4., 3., 3., 4.,\n",
              "        4., 3., 4., 4., 4., 4., 2., 2., 3., 4., 4., 2., 4., 2., 4., 3., 2.,\n",
              "        3., 2., 4., 4., 4., 4., 4., 4., 2., 3., 2., 3., 3., 3., 4., 4., 2.,\n",
              "        1., 4., 4., 3., 2., 3., 1., 3., 3., 1., 4., 3., 3., 1., 3., 3., 3.,\n",
              "        3., 2., 4., 3., 1., 4., 4., 4., 3., 4., 3., 4., 4., 3., 4., 3., 4.,\n",
              "        3., 3., 3., 2., 2., 4., 4., 2., 4., 2., 3., 3., 1., 2., 4., 3., 1.,\n",
              "        4., 2., 3., 2., 1., 2., 3., 3., 3., 4., 4., 3., 3., 3., 4., 3., 3.,\n",
              "        3., 4., 3., 4., 4., 4., 4., 2., 4., 3., 3., 4., 3., 4., 2., 2., 2.,\n",
              "        2., 3., 4., 3., 2., 2., 4., 3., 3., 3., 2., 3., 4., 1., 2., 3., 1.,\n",
              "        3., 4., 2., 2., 2., 3., 3., 2., 4., 3., 4., 4., 2., 4., 2., 3., 3.,\n",
              "        3., 3., 2., 1., 3., 4., 2., 4., 4., 3., 4., 2., 2., 3., 3., 3., 3.,\n",
              "        4., 3., 2., 4., 4., 4., 2., 4., 4., 2., 2., 3., 3., 4., 2., 2., 3.,\n",
              "        3., 1., 4., 4., 2., 2., 3., 3., 3., 3., 3., 3., 4., 1., 3., 2., 4.,\n",
              "        3., 4., 3., 2., 3., 2., 3., 4., 4., 4., 3., 4., 2., 3., 3., 3., 2.,\n",
              "        4., 3., 4., 3., 4., 3., 3., 4., 3., 3., 4., 4., 2., 4., 4., 3., 3.,\n",
              "        3., 2., 1., 3., 4., 3., 3., 4., 3., 4., 3., 4., 4., 2., 3., 3., 1.,\n",
              "        3., 4., 4., 2., 3., 4., 2., 3., 4., 4., 4., 3., 1., 3., 4., 2., 2.,\n",
              "        3., 4., 3., 4., 4., 3., 4., 4., 3., 3., 4., 4., 2., 4., 3., 3., 2.,\n",
              "        2., 2., 2., 2., 2., 2., 4., 4., 4., 2., 3., 4., 2., 2., 2., 3., 2.,\n",
              "        2., 4., 2., 4., 4., 4., 2., 4., 2., 2., 2., 4., 3., 2., 3., 2., 4.,\n",
              "        2., 2., 2., 3., 4., 1., 4., 2., 3., 4., 4., 3., 1., 4., 4., 2., 3.,\n",
              "        4., 3., 3., 3., 4., 4., 3., 1., 2., 2., 3., 3., 3., 3., 2., 4., 3.,\n",
              "        4., 4., 4., 1., 3., 3., 3., 4., 4., 3., 2., 3., 4., 4., 1., 2., 4.,\n",
              "        4., 2., 2., 4., 3., 4., 3., 3., 4., 3., 3., 3., 3., 3., 3., 3., 3.,\n",
              "        4., 3., 3., 4.]))"
            ]
          },
          "metadata": {},
          "execution_count": 46
        }
      ]
    },
    {
      "cell_type": "code",
      "source": [
        "plt.plot(mednan[:,-1])\n",
        "plt.plot(preds)\n",
        "rms = np.sqrt(np.mean((mednan[:,-1]-preds)**2))"
      ],
      "metadata": {
        "colab": {
          "base_uri": "https://localhost:8080/",
          "height": 265
        },
        "id": "7nqyXitluK5I",
        "outputId": "57aa311f-63ce-4061-e08b-32d847f92f0c"
      },
      "execution_count": null,
      "outputs": [
        {
          "output_type": "display_data",
          "data": {
            "text/plain": [
              "<Figure size 432x288 with 1 Axes>"
            ],
            "image/png": "[encoded data removed]"
          },
          "metadata": {
            "needs_background": "light"
          }
        }
      ]
    },
    {
      "cell_type": "code",
      "source": [
        "rms,score"
      ],
      "metadata": {
        "colab": {
          "base_uri": "https://localhost:8080/"
        },
        "id": "qlH3lmSSwpam",
        "outputId": "0886d534-1457-4777-8112-8f57893e1f96"
      },
      "execution_count": null,
      "outputs": [
        {
          "output_type": "execute_result",
          "data": {
            "text/plain": [
              "(1.174155346067559, 0.42718446601941745)"
            ]
          },
          "metadata": {},
          "execution_count": 51
        }
      ]
    },
    {
      "cell_type": "markdown",
      "source": [
        "## Testing the saving and loading feature for pretrained models"
      ],
      "metadata": {
        "id": "UdS5JIbp0SaS"
      }
    },
    {
      "cell_type": "code",
      "source": [
        "nn.coefs_\n",
        "nn.intercepts_"
      ],
      "metadata": {
        "colab": {
          "base_uri": "https://localhost:8080/"
        },
        "id": "eM4lqMTyyb-r",
        "outputId": "597dfbab-bc22-4b3f-ee88-ca5a2b5b43f9"
      },
      "execution_count": null,
      "outputs": [
        {
          "output_type": "execute_result",
          "data": {
            "text/plain": [
              "[array([ 0.07187723, -0.17225266, -0.06631136, -0.12462226, -0.16742287,\n",
              "         0.01759517,  0.19708628,  0.17330301,  0.1704394 ,  0.18003206,\n",
              "         0.17999927, -0.20672695,  0.15688088, -0.00799684,  0.1573524 ,\n",
              "         0.19410424,  0.13617181, -0.16316098,  0.04229423, -0.14779854,\n",
              "        -0.03655159, -0.03310868,  0.18361174,  0.1162001 ,  0.12625457,\n",
              "         0.16297199, -0.21196655, -0.1809227 ,  0.00542133,  0.09733272,\n",
              "         0.02820881, -0.20761296,  0.12851298,  0.04996   ,  0.05968128,\n",
              "         0.01169076,  0.02489282, -0.2034211 , -0.06652091, -0.04686312,\n",
              "        -0.15939032,  0.02630687,  0.02586438,  0.05955503, -0.05185481,\n",
              "         0.1894291 , -0.03664639, -0.21218163,  0.04599887,  0.03633293,\n",
              "        -0.16824519, -0.12410089,  0.19580852,  0.04505337,  0.13106023,\n",
              "         0.12985527,  0.06870077, -0.00181655, -0.07733202,  0.00684196,\n",
              "         0.03767751, -0.147582  ,  0.02249662, -0.09324265, -0.18323148,\n",
              "        -0.20771904, -0.12835705, -0.15809833,  0.01689346, -0.09493692,\n",
              "         0.17699399, -0.20463116,  0.23217844, -0.10876671, -0.09494059,\n",
              "         0.01705301, -0.12191278,  0.10839707,  0.18544866, -0.01723863,\n",
              "        -0.01704425,  0.06987902,  0.000625  , -0.19348479, -0.03842249,\n",
              "         0.14889251,  0.20233104,  0.12389456, -0.1929229 , -0.16610303,\n",
              "         0.2130633 ,  0.0360748 ,  0.05124484,  0.00568344, -0.19122935,\n",
              "        -0.05099819,  0.00612328,  0.09451621, -0.01175915, -0.0789292 ]),\n",
              " array([-0.06336382,  0.03225977, -0.09690842,  0.01693702])]"
            ]
          },
          "metadata": {},
          "execution_count": 56
        }
      ]
    },
    {
      "cell_type": "code",
      "source": [
        "nn2 = MLPClassifier(hidden_layer_sizes=(100), activation='relu',\n",
        "                    alpha=0.0001, learning_rate_init=0.001, \n",
        "                   max_iter=200)\n",
        "nn2.coefs_ = nn.coefs_\n",
        "nn2.intercepts_ = nn.intercepts_"
      ],
      "metadata": {
        "id": "kbMrZ9HTzO5_"
      },
      "execution_count": null,
      "outputs": []
    }
  ],
  "metadata": {
    "colab": {
      "collapsed_sections": [],
      "name": "FiestaLab_MLPClassifier.ipynb",
      "provenance": []
    },
    "kernelspec": {
      "display_name": "Python 3",
      "name": "python3"
    },
    "language_info": {
      "name": "python"
    }
  },
  "nbformat": 4,
  "nbformat_minor": 0
}