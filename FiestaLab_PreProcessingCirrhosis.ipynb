{
  "cells": [
    {
      "cell_type": "code",
      "execution_count": null,
      "metadata": {
        "id": "Xr_aBm6gAvGk"
      },
      "outputs": [],
      "source": [
        "from google.colab import drive\n",
        "import numpy as np\n",
        "import pandas as pd\n",
        "import matplotlib.pyplot as plt\n",
        "import sklearn\n"
      ]
    },
    {
      "cell_type": "code",
      "execution_count": null,
      "metadata": {
        "id": "rlpoVpDbFw8E"
      },
      "outputs": [],
      "source": [
        " dataframe = pd.read_csv('cirrhosis.csv')\n",
        " "
      ]
    },
    {
      "cell_type": "code",
      "execution_count": null,
      "metadata": {
        "id": "3RnXiALQRPpI",
        "colab": {
          "base_uri": "https://localhost:8080/",
          "height": 557
        },
        "outputId": "026a32ee-248e-428a-d631-e15f6797e40a"
      },
      "outputs": [
        {
          "output_type": "execute_result",
          "data": {
            "text/plain": [
              "      ID  N_Days Status             Drug    Age Sex Ascites Hepatomegaly  \\\n",
              "0      1     400      D  D-penicillamine  21464   F       Y            Y   \n",
              "1      2    4500      C  D-penicillamine  20617   F       N            Y   \n",
              "2      3    1012      D  D-penicillamine  25594   M       N            N   \n",
              "3      4    1925      D  D-penicillamine  19994   F       N            Y   \n",
              "4      5    1504     CL          Placebo  13918   F       N            Y   \n",
              "..   ...     ...    ...              ...    ...  ..     ...          ...   \n",
              "413  414     681      D              NaN  24472   F     NaN          NaN   \n",
              "414  415    1103      C              NaN  14245   F     NaN          NaN   \n",
              "415  416    1055      C              NaN  20819   F     NaN          NaN   \n",
              "416  417     691      C              NaN  21185   F     NaN          NaN   \n",
              "417  418     976      C              NaN  19358   F     NaN          NaN   \n",
              "\n",
              "    Spiders Edema  Bilirubin  Cholesterol  Albumin  Copper  Alk_Phos    SGOT  \\\n",
              "0         Y     Y       14.5        261.0     2.60   156.0    1718.0  137.95   \n",
              "1         Y     N        1.1        302.0     4.14    54.0    7394.8  113.52   \n",
              "2         N     S        1.4        176.0     3.48   210.0     516.0   96.10   \n",
              "3         Y     S        1.8        244.0     2.54    64.0    6121.8   60.63   \n",
              "4         Y     N        3.4        279.0     3.53   143.0     671.0  113.15   \n",
              "..      ...   ...        ...          ...      ...     ...       ...     ...   \n",
              "413     NaN     N        1.2          NaN     2.96     NaN       NaN     NaN   \n",
              "414     NaN     N        0.9          NaN     3.83     NaN       NaN     NaN   \n",
              "415     NaN     N        1.6          NaN     3.42     NaN       NaN     NaN   \n",
              "416     NaN     N        0.8          NaN     3.75     NaN       NaN     NaN   \n",
              "417     NaN     N        0.7          NaN     3.29     NaN       NaN     NaN   \n",
              "\n",
              "     Tryglicerides  Platelets  Prothrombin  Stage  \n",
              "0            172.0      190.0         12.2    4.0  \n",
              "1             88.0      221.0         10.6    3.0  \n",
              "2             55.0      151.0         12.0    4.0  \n",
              "3             92.0      183.0         10.3    4.0  \n",
              "4             72.0      136.0         10.9    3.0  \n",
              "..             ...        ...          ...    ...  \n",
              "413            NaN      174.0         10.9    3.0  \n",
              "414            NaN      180.0         11.2    4.0  \n",
              "415            NaN      143.0          9.9    3.0  \n",
              "416            NaN      269.0         10.4    3.0  \n",
              "417            NaN      350.0         10.6    4.0  \n",
              "\n",
              "[418 rows x 20 columns]"
            ],
            "text/html": [
              "\n",
              "  <div id=\"df-6f6562d0-e2da-41c3-950a-cc65a4f4f54f\">\n",
              "    <div class=\"colab-df-container\">\n",
              "      <div>\n",
              "<style scoped>\n",
              "    .dataframe tbody tr th:only-of-type {\n",
              "        vertical-align: middle;\n",
              "    }\n",
              "\n",
              "    .dataframe tbody tr th {\n",
              "        vertical-align: top;\n",
              "    }\n",
              "\n",
              "    .dataframe thead th {\n",
              "        text-align: right;\n",
              "    }\n",
              "</style>\n",
              "<table border=\"1\" class=\"dataframe\">\n",
              "  <thead>\n",
              "    <tr style=\"text-align: right;\">\n",
              "      <th></th>\n",
              "      <th>ID</th>\n",
              "      <th>N_Days</th>\n",
              "      <th>Status</th>\n",
              "      <th>Drug</th>\n",
              "      <th>Age</th>\n",
              "      <th>Sex</th>\n",
              "      <th>Ascites</th>\n",
              "      <th>Hepatomegaly</th>\n",
              "      <th>Spiders</th>\n",
              "      <th>Edema</th>\n",
              "      <th>Bilirubin</th>\n",
              "      <th>Cholesterol</th>\n",
              "      <th>Albumin</th>\n",
              "      <th>Copper</th>\n",
              "      <th>Alk_Phos</th>\n",
              "      <th>SGOT</th>\n",
              "      <th>Tryglicerides</th>\n",
              "      <th>Platelets</th>\n",
              "      <th>Prothrombin</th>\n",
              "      <th>Stage</th>\n",
              "    </tr>\n",
              "  </thead>\n",
              "  <tbody>\n",
              "    <tr>\n",
              "      <th>0</th>\n",
              "      <td>1</td>\n",
              "      <td>400</td>\n",
              "      <td>D</td>\n",
              "      <td>D-penicillamine</td>\n",
              "      <td>21464</td>\n",
              "      <td>F</td>\n",
              "      <td>Y</td>\n",
              "      <td>Y</td>\n",
              "      <td>Y</td>\n",
              "      <td>Y</td>\n",
              "      <td>14.5</td>\n",
              "      <td>261.0</td>\n",
              "      <td>2.60</td>\n",
              "      <td>156.0</td>\n",
              "      <td>1718.0</td>\n",
              "      <td>137.95</td>\n",
              "      <td>172.0</td>\n",
              "      <td>190.0</td>\n",
              "      <td>12.2</td>\n",
              "      <td>4.0</td>\n",
              "    </tr>\n",
              "    <tr>\n",
              "      <th>1</th>\n",
              "      <td>2</td>\n",
              "      <td>4500</td>\n",
              "      <td>C</td>\n",
              "      <td>D-penicillamine</td>\n",
              "      <td>20617</td>\n",
              "      <td>F</td>\n",
              "      <td>N</td>\n",
              "      <td>Y</td>\n",
              "      <td>Y</td>\n",
              "      <td>N</td>\n",
              "      <td>1.1</td>\n",
              "      <td>302.0</td>\n",
              "      <td>4.14</td>\n",
              "      <td>54.0</td>\n",
              "      <td>7394.8</td>\n",
              "      <td>113.52</td>\n",
              "      <td>88.0</td>\n",
              "      <td>221.0</td>\n",
              "      <td>10.6</td>\n",
              "      <td>3.0</td>\n",
              "    </tr>\n",
              "    <tr>\n",
              "      <th>2</th>\n",
              "      <td>3</td>\n",
              "      <td>1012</td>\n",
              "      <td>D</td>\n",
              "      <td>D-penicillamine</td>\n",
              "      <td>25594</td>\n",
              "      <td>M</td>\n",
              "      <td>N</td>\n",
              "      <td>N</td>\n",
              "      <td>N</td>\n",
              "      <td>S</td>\n",
              "      <td>1.4</td>\n",
              "      <td>176.0</td>\n",
              "      <td>3.48</td>\n",
              "      <td>210.0</td>\n",
              "      <td>516.0</td>\n",
              "      <td>96.10</td>\n",
              "      <td>55.0</td>\n",
              "      <td>151.0</td>\n",
              "      <td>12.0</td>\n",
              "      <td>4.0</td>\n",
              "    </tr>\n",
              "    <tr>\n",
              "      <th>3</th>\n",
              "      <td>4</td>\n",
              "      <td>1925</td>\n",
              "      <td>D</td>\n",
              "      <td>D-penicillamine</td>\n",
              "      <td>19994</td>\n",
              "      <td>F</td>\n",
              "      <td>N</td>\n",
              "      <td>Y</td>\n",
              "      <td>Y</td>\n",
              "      <td>S</td>\n",
              "      <td>1.8</td>\n",
              "      <td>244.0</td>\n",
              "      <td>2.54</td>\n",
              "      <td>64.0</td>\n",
              "      <td>6121.8</td>\n",
              "      <td>60.63</td>\n",
              "      <td>92.0</td>\n",
              "      <td>183.0</td>\n",
              "      <td>10.3</td>\n",
              "      <td>4.0</td>\n",
              "    </tr>\n",
              "    <tr>\n",
              "      <th>4</th>\n",
              "      <td>5</td>\n",
              "      <td>1504</td>\n",
              "      <td>CL</td>\n",
              "      <td>Placebo</td>\n",
              "      <td>13918</td>\n",
              "      <td>F</td>\n",
              "      <td>N</td>\n",
              "      <td>Y</td>\n",
              "      <td>Y</td>\n",
              "      <td>N</td>\n",
              "      <td>3.4</td>\n",
              "      <td>279.0</td>\n",
              "      <td>3.53</td>\n",
              "      <td>143.0</td>\n",
              "      <td>671.0</td>\n",
              "      <td>113.15</td>\n",
              "      <td>72.0</td>\n",
              "      <td>136.0</td>\n",
              "      <td>10.9</td>\n",
              "      <td>3.0</td>\n",
              "    </tr>\n",
              "    <tr>\n",
              "      <th>...</th>\n",
              "      <td>...</td>\n",
              "      <td>...</td>\n",
              "      <td>...</td>\n",
              "      <td>...</td>\n",
              "      <td>...</td>\n",
              "      <td>...</td>\n",
              "      <td>...</td>\n",
              "      <td>...</td>\n",
              "      <td>...</td>\n",
              "      <td>...</td>\n",
              "      <td>...</td>\n",
              "      <td>...</td>\n",
              "      <td>...</td>\n",
              "      <td>...</td>\n",
              "      <td>...</td>\n",
              "      <td>...</td>\n",
              "      <td>...</td>\n",
              "      <td>...</td>\n",
              "      <td>...</td>\n",
              "      <td>...</td>\n",
              "    </tr>\n",
              "    <tr>\n",
              "      <th>413</th>\n",
              "      <td>414</td>\n",
              "      <td>681</td>\n",
              "      <td>D</td>\n",
              "      <td>NaN</td>\n",
              "      <td>24472</td>\n",
              "      <td>F</td>\n",
              "      <td>NaN</td>\n",
              "      <td>NaN</td>\n",
              "      <td>NaN</td>\n",
              "      <td>N</td>\n",
              "      <td>1.2</td>\n",
              "      <td>NaN</td>\n",
              "      <td>2.96</td>\n",
              "      <td>NaN</td>\n",
              "      <td>NaN</td>\n",
              "      <td>NaN</td>\n",
              "      <td>NaN</td>\n",
              "      <td>174.0</td>\n",
              "      <td>10.9</td>\n",
              "      <td>3.0</td>\n",
              "    </tr>\n",
              "    <tr>\n",
              "      <th>414</th>\n",
              "      <td>415</td>\n",
              "      <td>1103</td>\n",
              "      <td>C</td>\n",
              "      <td>NaN</td>\n",
              "      <td>14245</td>\n",
              "      <td>F</td>\n",
              "      <td>NaN</td>\n",
              "      <td>NaN</td>\n",
              "      <td>NaN</td>\n",
              "      <td>N</td>\n",
              "      <td>0.9</td>\n",
              "      <td>NaN</td>\n",
              "      <td>3.83</td>\n",
              "      <td>NaN</td>\n",
              "      <td>NaN</td>\n",
              "      <td>NaN</td>\n",
              "      <td>NaN</td>\n",
              "      <td>180.0</td>\n",
              "      <td>11.2</td>\n",
              "      <td>4.0</td>\n",
              "    </tr>\n",
              "    <tr>\n",
              "      <th>415</th>\n",
              "      <td>416</td>\n",
              "      <td>1055</td>\n",
              "      <td>C</td>\n",
              "      <td>NaN</td>\n",
              "      <td>20819</td>\n",
              "      <td>F</td>\n",
              "      <td>NaN</td>\n",
              "      <td>NaN</td>\n",
              "      <td>NaN</td>\n",
              "      <td>N</td>\n",
              "      <td>1.6</td>\n",
              "      <td>NaN</td>\n",
              "      <td>3.42</td>\n",
              "      <td>NaN</td>\n",
              "      <td>NaN</td>\n",
              "      <td>NaN</td>\n",
              "      <td>NaN</td>\n",
              "      <td>143.0</td>\n",
              "      <td>9.9</td>\n",
              "      <td>3.0</td>\n",
              "    </tr>\n",
              "    <tr>\n",
              "      <th>416</th>\n",
              "      <td>417</td>\n",
              "      <td>691</td>\n",
              "      <td>C</td>\n",
              "      <td>NaN</td>\n",
              "      <td>21185</td>\n",
              "      <td>F</td>\n",
              "      <td>NaN</td>\n",
              "      <td>NaN</td>\n",
              "      <td>NaN</td>\n",
              "      <td>N</td>\n",
              "      <td>0.8</td>\n",
              "      <td>NaN</td>\n",
              "      <td>3.75</td>\n",
              "      <td>NaN</td>\n",
              "      <td>NaN</td>\n",
              "      <td>NaN</td>\n",
              "      <td>NaN</td>\n",
              "      <td>269.0</td>\n",
              "      <td>10.4</td>\n",
              "      <td>3.0</td>\n",
              "    </tr>\n",
              "    <tr>\n",
              "      <th>417</th>\n",
              "      <td>418</td>\n",
              "      <td>976</td>\n",
              "      <td>C</td>\n",
              "      <td>NaN</td>\n",
              "      <td>19358</td>\n",
              "      <td>F</td>\n",
              "      <td>NaN</td>\n",
              "      <td>NaN</td>\n",
              "      <td>NaN</td>\n",
              "      <td>N</td>\n",
              "      <td>0.7</td>\n",
              "      <td>NaN</td>\n",
              "      <td>3.29</td>\n",
              "      <td>NaN</td>\n",
              "      <td>NaN</td>\n",
              "      <td>NaN</td>\n",
              "      <td>NaN</td>\n",
              "      <td>350.0</td>\n",
              "      <td>10.6</td>\n",
              "      <td>4.0</td>\n",
              "    </tr>\n",
              "  </tbody>\n",
              "</table>\n",
              "<p>418 rows × 20 columns</p>\n",
              "</div>\n",
              "      <button class=\"colab-df-convert\" onclick=\"convertToInteractive('df-6f6562d0-e2da-41c3-950a-cc65a4f4f54f')\"\n",
              "              title=\"Convert this dataframe to an interactive table.\"\n",
              "              style=\"display:none;\">\n",
              "        \n",
              "  <svg xmlns=\"http://www.w3.org/2000/svg\" height=\"24px\"viewBox=\"0 0 24 24\"\n",
              "       width=\"24px\">\n",
              "    <path d=\"M0 0h24v24H0V0z\" fill=\"none\"/>\n",
              "    <path d=\"M18.56 5.44l.94 2.06.94-2.06 2.06-.94-2.06-.94-.94-2.06-.94 2.06-2.06.94zm-11 1L8.5 8.5l.94-2.06 2.06-.94-2.06-.94L8.5 2.5l-.94 2.06-2.06.94zm10 10l.94 2.06.94-2.06 2.06-.94-2.06-.94-.94-2.06-.94 2.06-2.06.94z\"/><path d=\"M17.41 7.96l-1.37-1.37c-.4-.4-.92-.59-1.43-.59-.52 0-1.04.2-1.43.59L10.3 9.45l-7.72 7.72c-.78.78-.78 2.05 0 2.83L4 21.41c.39.39.9.59 1.41.59.51 0 1.02-.2 1.41-.59l7.78-7.78 2.81-2.81c.8-.78.8-2.07 0-2.86zM5.41 20L4 18.59l7.72-7.72 1.47 1.35L5.41 20z\"/>\n",
              "  </svg>\n",
              "      </button>\n",
              "      \n",
              "  <style>\n",
              "    .colab-df-container {\n",
              "      display:flex;\n",
              "      flex-wrap:wrap;\n",
              "      gap: 12px;\n",
              "    }\n",
              "\n",
              "    .colab-df-convert {\n",
              "      background-color: #E8F0FE;\n",
              "      border: none;\n",
              "      border-radius: 50%;\n",
              "      cursor: pointer;\n",
              "      display: none;\n",
              "      fill: #1967D2;\n",
              "      height: 32px;\n",
              "      padding: 0 0 0 0;\n",
              "      width: 32px;\n",
              "    }\n",
              "\n",
              "    .colab-df-convert:hover {\n",
              "      background-color: #E2EBFA;\n",
              "      box-shadow: 0px 1px 2px rgba(60, 64, 67, 0.3), 0px 1px 3px 1px rgba(60, 64, 67, 0.15);\n",
              "      fill: #174EA6;\n",
              "    }\n",
              "\n",
              "    [theme=dark] .colab-df-convert {\n",
              "      background-color: #3B4455;\n",
              "      fill: #D2E3FC;\n",
              "    }\n",
              "\n",
              "    [theme=dark] .colab-df-convert:hover {\n",
              "      background-color: #434B5C;\n",
              "      box-shadow: 0px 1px 3px 1px rgba(0, 0, 0, 0.15);\n",
              "      filter: drop-shadow(0px 1px 2px rgba(0, 0, 0, 0.3));\n",
              "      fill: #FFFFFF;\n",
              "    }\n",
              "  </style>\n",
              "\n",
              "      <script>\n",
              "        const buttonEl =\n",
              "          document.querySelector('#df-6f6562d0-e2da-41c3-950a-cc65a4f4f54f button.colab-df-convert');\n",
              "        buttonEl.style.display =\n",
              "          google.colab.kernel.accessAllowed ? 'block' : 'none';\n",
              "\n",
              "        async function convertToInteractive(key) {\n",
              "          const element = document.querySelector('#df-6f6562d0-e2da-41c3-950a-cc65a4f4f54f');\n",
              "          const dataTable =\n",
              "            await google.colab.kernel.invokeFunction('convertToInteractive',\n",
              "                                                     [key], {});\n",
              "          if (!dataTable) return;\n",
              "\n",
              "          const docLinkHtml = 'Like what you see? Visit the ' +\n",
              "            '<a target=\"_blank\" href=https://colab.research.google.com/notebooks/data_table.ipynb>data table notebook</a>'\n",
              "            + ' to learn more about interactive tables.';\n",
              "          element.innerHTML = '';\n",
              "          dataTable['output_type'] = 'display_data';\n",
              "          await google.colab.output.renderOutput(dataTable, element);\n",
              "          const docLink = document.createElement('div');\n",
              "          docLink.innerHTML = docLinkHtml;\n",
              "          element.appendChild(docLink);\n",
              "        }\n",
              "      </script>\n",
              "    </div>\n",
              "  </div>\n",
              "  "
            ]
          },
          "metadata": {},
          "execution_count": 31
        }
      ],
      "source": [
        "dataframe"
      ]
    },
    {
      "cell_type": "code",
      "source": [
        "array =np.asarray(dataframe)\n"
      ],
      "metadata": {
        "id": "KCoALzvHBNtr"
      },
      "execution_count": null,
      "outputs": []
    },
    {
      "cell_type": "code",
      "source": [
        "array[:5,:]"
      ],
      "metadata": {
        "colab": {
          "base_uri": "https://localhost:8080/"
        },
        "id": "txRaMmodBVqZ",
        "outputId": "ea80d9a5-7165-4030-f6de-d5fdf753c744"
      },
      "execution_count": null,
      "outputs": [
        {
          "output_type": "execute_result",
          "data": {
            "text/plain": [
              "array([[1, 400, 'D', 'D-penicillamine', 21464, 'F', 'Y', 'Y', 'Y', 'Y',\n",
              "        14.5, 261.0, 2.6, 156.0, 1718.0, 137.95, 172.0, 190.0, 12.2, 4.0],\n",
              "       [2, 4500, 'C', 'D-penicillamine', 20617, 'F', 'N', 'Y', 'Y', 'N',\n",
              "        1.1, 302.0, 4.14, 54.0, 7394.8, 113.52, 88.0, 221.0, 10.6, 3.0],\n",
              "       [3, 1012, 'D', 'D-penicillamine', 25594, 'M', 'N', 'N', 'N', 'S',\n",
              "        1.4, 176.0, 3.48, 210.0, 516.0, 96.1, 55.0, 151.0, 12.0, 4.0],\n",
              "       [4, 1925, 'D', 'D-penicillamine', 19994, 'F', 'N', 'Y', 'Y', 'S',\n",
              "        1.8, 244.0, 2.54, 64.0, 6121.8, 60.63, 92.0, 183.0, 10.3, 4.0],\n",
              "       [5, 1504, 'CL', 'Placebo', 13918, 'F', 'N', 'Y', 'Y', 'N', 3.4,\n",
              "        279.0, 3.53, 143.0, 671.0, 113.15, 72.0, 136.0, 10.9, 3.0]],\n",
              "      dtype=object)"
            ]
          },
          "metadata": {},
          "execution_count": 33
        }
      ]
    },
    {
      "cell_type": "code",
      "source": [
        "onehotcols = {}"
      ],
      "metadata": {
        "id": "h-WloLZEVWW8"
      },
      "execution_count": null,
      "outputs": []
    },
    {
      "cell_type": "code",
      "source": [
        "patients, featsinit = array.shape\n",
        "array.shape\n",
        "\n",
        "ray = array[:,2]\n",
        "cats = set(ray)\n",
        "l_cats = list(cats)\n",
        "catOnehot = np.zeros((patients, len(cats)))\n",
        "count = 0\n",
        "for i in ray:\n",
        "  ind = l_cats.index(i)\n",
        "  catOnehot[count,ind] = 1\n",
        "  count+=1\n",
        "  onehot2 = catOnehot\n",
        "onehotcols[2] = l_cats"
      ],
      "metadata": {
        "id": "wMKSaQD3MehW"
      },
      "execution_count": null,
      "outputs": []
    },
    {
      "cell_type": "code",
      "source": [
        "onehot2,catOnehot"
      ],
      "metadata": {
        "colab": {
          "base_uri": "https://localhost:8080/"
        },
        "id": "tog2ePujU2xE",
        "outputId": "0fa1c855-7e17-4f2b-8ab1-45b58ae213bf"
      },
      "execution_count": null,
      "outputs": [
        {
          "output_type": "execute_result",
          "data": {
            "text/plain": [
              "(array([[0., 1., 0.],\n",
              "        [0., 0., 1.],\n",
              "        [0., 1., 0.],\n",
              "        ...,\n",
              "        [0., 0., 1.],\n",
              "        [0., 0., 1.],\n",
              "        [0., 0., 1.]]), array([[0., 1., 0.],\n",
              "        [0., 0., 1.],\n",
              "        [0., 1., 0.],\n",
              "        ...,\n",
              "        [0., 0., 1.],\n",
              "        [0., 0., 1.],\n",
              "        [0., 0., 1.]]))"
            ]
          },
          "metadata": {},
          "execution_count": 57
        }
      ]
    },
    {
      "cell_type": "code",
      "source": [
        "patients, featsinit = array.shape\n",
        "array.shape\n",
        "\n",
        "ray = array[:,3]\n",
        "cats = set(ray)\n",
        "l_cats = list(cats)\n",
        "catOnehot = np.zeros((patients, len(cats)))\n",
        "count = 0\n",
        "for i in ray:\n",
        "  ind = l_cats.index(i)\n",
        "  catOnehot[count,ind] = 1\n",
        "  count+=1\n",
        "  onehot3 = catOnehot\n",
        "onehotcols[3] = l_cats"
      ],
      "metadata": {
        "id": "qhk_IltHVonM"
      },
      "execution_count": null,
      "outputs": []
    },
    {
      "cell_type": "code",
      "source": [
        "patients, featsinit = array.shape\n",
        "array.shape\n",
        "\n",
        "ray = array[:,5]\n",
        "cats = set(ray)\n",
        "l_cats = list(cats)\n",
        "catOnehot = np.zeros((patients, len(cats)))\n",
        "count = 0\n",
        "for i in ray:\n",
        "  ind = l_cats.index(i)\n",
        "  catOnehot[count,ind] = 1\n",
        "  count+=1\n",
        "  onehot5 = catOnehot\n",
        "onehotcols[5] = l_cats"
      ],
      "metadata": {
        "id": "GP-Pc2haVoss"
      },
      "execution_count": null,
      "outputs": []
    },
    {
      "cell_type": "code",
      "source": [
        "patients, featsinit = array.shape\n",
        "array.shape\n",
        "\n",
        "ray = array[:,6]\n",
        "cats = set(ray)\n",
        "l_cats = list(cats)\n",
        "catOnehot = np.zeros((patients, len(cats)))\n",
        "count = 0\n",
        "for i in ray:\n",
        "  ind = l_cats.index(i)\n",
        "  catOnehot[count,ind] = 1\n",
        "  count+=1\n",
        "  onehot6 = catOnehot\n",
        "onehotcols[6] = l_cats"
      ],
      "metadata": {
        "id": "TVDNH1tmVpLk"
      },
      "execution_count": null,
      "outputs": []
    },
    {
      "cell_type": "code",
      "source": [
        "patients, featsinit = array.shape\n",
        "array.shape\n",
        "\n",
        "ray = array[:,7]\n",
        "cats = set(ray)\n",
        "l_cats = list(cats)\n",
        "catOnehot = np.zeros((patients, len(cats)))\n",
        "count = 0\n",
        "for i in ray:\n",
        "  ind = l_cats.index(i)\n",
        "  catOnehot[count,ind] = 1\n",
        "  count+=1\n",
        "  onehot7 = catOnehot\n",
        "onehotcols[7] = l_cats"
      ],
      "metadata": {
        "id": "rfW6GDM6VpST"
      },
      "execution_count": null,
      "outputs": []
    },
    {
      "cell_type": "code",
      "source": [
        "patients, featsinit = array.shape\n",
        "array.shape\n",
        "\n",
        "ray = array[:,8]\n",
        "cats = set(ray)\n",
        "l_cats = list(cats)\n",
        "catOnehot = np.zeros((patients, len(cats)))\n",
        "count = 0\n",
        "for i in ray:\n",
        "  ind = l_cats.index(i)\n",
        "  catOnehot[count,ind] = 1\n",
        "  count+=1\n",
        "  onehot8 = catOnehot\n",
        "onehotcols[8] = l_cats"
      ],
      "metadata": {
        "id": "CyuSlmagVpWu"
      },
      "execution_count": null,
      "outputs": []
    },
    {
      "cell_type": "code",
      "source": [
        "patients, featsinit = array.shape\n",
        "array.shape\n",
        "\n",
        "ray = array[:,9]\n",
        "cats = set(ray)\n",
        "l_cats = list(cats)\n",
        "catOnehot = np.zeros((patients, len(cats)))\n",
        "count = 0\n",
        "for i in ray:\n",
        "  ind = l_cats.index(i)\n",
        "  catOnehot[count,ind] = 1\n",
        "  count+=1\n",
        "  onehot9 = catOnehot\n",
        "onehotcols[9] = l_cats"
      ],
      "metadata": {
        "id": "jo1xhpSxVpaZ"
      },
      "execution_count": null,
      "outputs": []
    },
    {
      "cell_type": "code",
      "source": [
        "colNames = list(dataframe.columns)\n",
        "colNames"
      ],
      "metadata": {
        "colab": {
          "base_uri": "https://localhost:8080/"
        },
        "id": "wekqqsP-UeFc",
        "outputId": "d9fb9536-0a73-42ae-c7b1-fdc81d897af8"
      },
      "execution_count": null,
      "outputs": [
        {
          "output_type": "execute_result",
          "data": {
            "text/plain": [
              "['ID',\n",
              " 'N_Days',\n",
              " 'Status',\n",
              " 'Drug',\n",
              " 'Age',\n",
              " 'Sex',\n",
              " 'Ascites',\n",
              " 'Hepatomegaly',\n",
              " 'Spiders',\n",
              " 'Edema',\n",
              " 'Bilirubin',\n",
              " 'Cholesterol',\n",
              " 'Albumin',\n",
              " 'Copper',\n",
              " 'Alk_Phos',\n",
              " 'SGOT',\n",
              " 'Tryglicerides',\n",
              " 'Platelets',\n",
              " 'Prothrombin',\n",
              " 'Stage']"
            ]
          },
          "metadata": {},
          "execution_count": 44
        }
      ]
    },
    {
      "cell_type": "code",
      "source": [
        "onehotcols"
      ],
      "metadata": {
        "colab": {
          "base_uri": "https://localhost:8080/"
        },
        "id": "UfLSbsBSVnwd",
        "outputId": "85dc8e8d-46b1-4e1c-aaa1-f1794e83bf48"
      },
      "execution_count": null,
      "outputs": [
        {
          "output_type": "execute_result",
          "data": {
            "text/plain": [
              "{2: ['CL', 'D', 'C'],\n",
              " 3: [nan, 'Placebo', 'D-penicillamine'],\n",
              " 5: ['F', 'M'],\n",
              " 6: [nan, 'Y', 'N'],\n",
              " 7: [nan, 'Y', 'N'],\n",
              " 8: [nan, 'Y', 'N'],\n",
              " 9: ['S', 'Y', 'N']}"
            ]
          },
          "metadata": {},
          "execution_count": 65
        }
      ]
    },
    {
      "cell_type": "code",
      "source": [
        "newOHcols = {}\n",
        "for i in onehotcols.keys():\n",
        "  lst = onehotcols[i]\n",
        "  newlst = []\n",
        "  for j in lst:\n",
        "    newlst.append(colNames[i]+'_'+str(j))\n",
        "  newOHcols[i] = newlst"
      ],
      "metadata": {
        "id": "vaZJFmIDVuNq"
      },
      "execution_count": null,
      "outputs": []
    },
    {
      "cell_type": "code",
      "source": [
        "newOHcols"
      ],
      "metadata": {
        "colab": {
          "base_uri": "https://localhost:8080/"
        },
        "id": "SbgwHzd_WkRn",
        "outputId": "40d98ce5-e199-4932-8089-f64e603169ea"
      },
      "execution_count": null,
      "outputs": [
        {
          "output_type": "execute_result",
          "data": {
            "text/plain": [
              "{2: ['Status_CL', 'Status_D', 'Status_C'],\n",
              " 3: ['Drug_nan', 'Drug_Placebo', 'Drug_D-penicillamine'],\n",
              " 5: ['Sex_F', 'Sex_M'],\n",
              " 6: ['Ascites_nan', 'Ascites_Y', 'Ascites_N'],\n",
              " 7: ['Hepatomegaly_nan', 'Hepatomegaly_Y', 'Hepatomegaly_N'],\n",
              " 8: ['Spiders_nan', 'Spiders_Y', 'Spiders_N'],\n",
              " 9: ['Edema_S', 'Edema_Y', 'Edema_N']}"
            ]
          },
          "metadata": {},
          "execution_count": 67
        }
      ]
    },
    {
      "cell_type": "code",
      "source": [
        "greatarray= np.concatenate([array[:,:2], onehot2, onehot3, array[:,4].reshape(418,1),\n",
        "                            onehot5, onehot6, onehot7, onehot8, onehot9, array[:,10:]],axis=1)"
      ],
      "metadata": {
        "id": "pU12MgdwVpgX"
      },
      "execution_count": null,
      "outputs": []
    },
    {
      "cell_type": "code",
      "source": [
        "allnewcols = (colNames[:2]+newOHcols[2]+newOHcols[3]+[colNames[4]]+\n",
        "              newOHcols[5]+newOHcols[6]+newOHcols[7]+newOHcols[8]+newOHcols[8]+colNames[10:]) "
      ],
      "metadata": {
        "id": "WHKQEqQGXdx_"
      },
      "execution_count": null,
      "outputs": []
    },
    {
      "cell_type": "code",
      "source": [
        "len(allnewcols), allnewcols"
      ],
      "metadata": {
        "colab": {
          "base_uri": "https://localhost:8080/"
        },
        "id": "-zOjkdtNXSEB",
        "outputId": "83f9d4dd-799a-446b-dadb-fb210a0561bb"
      },
      "execution_count": null,
      "outputs": [
        {
          "output_type": "execute_result",
          "data": {
            "text/plain": [
              "(33,\n",
              " ['ID',\n",
              "  'N_Days',\n",
              "  'Status_CL',\n",
              "  'Status_D',\n",
              "  'Status_C',\n",
              "  'Drug_nan',\n",
              "  'Drug_Placebo',\n",
              "  'Drug_D-penicillamine',\n",
              "  'Age',\n",
              "  'Sex_F',\n",
              "  'Sex_M',\n",
              "  'Ascites_nan',\n",
              "  'Ascites_Y',\n",
              "  'Ascites_N',\n",
              "  'Hepatomegaly_nan',\n",
              "  'Hepatomegaly_Y',\n",
              "  'Hepatomegaly_N',\n",
              "  'Spiders_nan',\n",
              "  'Spiders_Y',\n",
              "  'Spiders_N',\n",
              "  'Spiders_nan',\n",
              "  'Spiders_Y',\n",
              "  'Spiders_N',\n",
              "  'Bilirubin',\n",
              "  'Cholesterol',\n",
              "  'Albumin',\n",
              "  'Copper',\n",
              "  'Alk_Phos',\n",
              "  'SGOT',\n",
              "  'Tryglicerides',\n",
              "  'Platelets',\n",
              "  'Prothrombin',\n",
              "  'Stage'])"
            ]
          },
          "metadata": {},
          "execution_count": 71
        }
      ]
    },
    {
      "cell_type": "code",
      "source": [
        "greatarray = greatarray.astype(float)"
      ],
      "metadata": {
        "id": "oh55jjt-X2c0"
      },
      "execution_count": null,
      "outputs": []
    },
    {
      "cell_type": "code",
      "source": [
        "np.save(\"onehot_cirrhosis_raw.npy\",greatarray)"
      ],
      "metadata": {
        "id": "Yy06eMmdX55D"
      },
      "execution_count": null,
      "outputs": []
    },
    {
      "cell_type": "code",
      "source": [
        "A=np.load(\"greatarray.npy\",allow_pickle=True).astype('float64')"
      ],
      "metadata": {
        "id": "4ZJ6qMM8YPBQ"
      },
      "execution_count": null,
      "outputs": []
    },
    {
      "cell_type": "code",
      "source": [
        "cleanRows = (np.sum(np.isnan(A),1) ==0)"
      ],
      "metadata": {
        "id": "108wtd9ymhC3"
      },
      "execution_count": null,
      "outputs": []
    },
    {
      "cell_type": "code",
      "source": [
        "cleanA = A[cleanRows]"
      ],
      "metadata": {
        "id": "9Pq4HNCPs4f0"
      },
      "execution_count": null,
      "outputs": []
    }
  ],
  "metadata": {
    "colab": {
      "collapsed_sections": [],
      "name": "FiestaLab_PreProcessingCirrhosis.ipynb",
      "provenance": []
    },
    "kernelspec": {
      "display_name": "Python 3",
      "name": "python3"
    },
    "language_info": {
      "name": "python"
    }
  },
  "nbformat": 4,
  "nbformat_minor": 0
}